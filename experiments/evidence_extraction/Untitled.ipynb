{
 "cells": [
  {
   "cell_type": "code",
   "execution_count": 4,
   "id": "cc1c1229-937e-42af-acab-394b8f4e2626",
   "metadata": {},
   "outputs": [],
   "source": [
    "import pandas as pd\n",
    "from experiments.models.GPTModel import GPTInference"
   ]
  },
  {
   "cell_type": "code",
   "execution_count": null,
   "id": "8a977608-cebe-448c-a419-509abeee209c",
   "metadata": {},
   "outputs": [],
   "source": [
    "'''\n",
    "First check which sentence the highlighted text matches \n",
    "Use sentence and evidence as pairs that match \n",
    "Liberal -- if evidence in NLI shortlisted then rate 1, also use f-1 \n",
    "'''"
   ]
  },
  {
   "cell_type": "code",
   "execution_count": 6,
   "id": "c7b16464-f2b2-410b-aaf9-e5a281fab77b",
   "metadata": {},
   "outputs": [],
   "source": [
    "def get_annotations():\n",
    "    annotations_path = '/home/sanjana/factual_evaluation_source_based/annotations/round1_aggredialfact_annotated/dialoguefact_two_annotators_round1.csv'\n",
    "    df = pd.read_csv(annotations_path)\n",
    "    return df\n"
   ]
  },
  {
   "cell_type": "code",
   "execution_count": 7,
   "id": "8eb11190-34e0-4e4b-bbf8-88ad93bb121e",
   "metadata": {},
   "outputs": [
    {
     "data": {
      "text/html": [
       "<div>\n",
       "<style scoped>\n",
       "    .dataframe tbody tr th:only-of-type {\n",
       "        vertical-align: middle;\n",
       "    }\n",
       "\n",
       "    .dataframe tbody tr th {\n",
       "        vertical-align: top;\n",
       "    }\n",
       "\n",
       "    .dataframe thead th {\n",
       "        text-align: right;\n",
       "    }\n",
       "</style>\n",
       "<table border=\"1\" class=\"dataframe\">\n",
       "  <thead>\n",
       "    <tr style=\"text-align: right;\">\n",
       "      <th></th>\n",
       "      <th>Unnamed: 0</th>\n",
       "      <th>uuid</th>\n",
       "      <th>user_id</th>\n",
       "      <th>docid</th>\n",
       "      <th>model</th>\n",
       "      <th>nonfactual_spans</th>\n",
       "      <th>evidence</th>\n",
       "      <th>error_type</th>\n",
       "      <th>summary</th>\n",
       "      <th>dialogue</th>\n",
       "    </tr>\n",
       "  </thead>\n",
       "  <tbody>\n",
       "    <tr>\n",
       "      <th>0</th>\n",
       "      <td>0</td>\n",
       "      <td>b6273d21-9a0c-4033-8e2b-908d0a98c143</td>\n",
       "      <td>sanjana</td>\n",
       "      <td>13611370</td>\n",
       "      <td>gpt4-32k-0613</td>\n",
       "      <td>NaN</td>\n",
       "      <td>NaN</td>\n",
       "      <td>NaN</td>\n",
       "      <td>Derek asks Judy if she can feed his animals on...</td>\n",
       "      <td>Derek: Judy, r you leaving for the weekend?\\r\\...</td>\n",
       "    </tr>\n",
       "    <tr>\n",
       "      <th>1</th>\n",
       "      <td>1</td>\n",
       "      <td>ec577599-01d2-4ed5-af77-245326c3ac8b</td>\n",
       "      <td>ann_ccry</td>\n",
       "      <td>13611370</td>\n",
       "      <td>gpt4-32k-0613</td>\n",
       "      <td>lans to</td>\n",
       "      <td>Maybe</td>\n",
       "      <td>Intrinsic_Error</td>\n",
       "      <td>Derek asks Judy if she can feed his animals on...</td>\n",
       "      <td>Derek: Judy, r you leaving for the weekend?\\r\\...</td>\n",
       "    </tr>\n",
       "    <tr>\n",
       "      <th>2</th>\n",
       "      <td>2</td>\n",
       "      <td>22a9198f-5a54-4d53-a630-552083d5b350</td>\n",
       "      <td>ann_ccry</td>\n",
       "      <td>13611426</td>\n",
       "      <td>gpt4-32k-0613</td>\n",
       "      <td>both</td>\n",
       "      <td>principally the night</td>\n",
       "      <td>Intrinsic_Error</td>\n",
       "      <td>Poppy and Harry both prefer Lisbon, especially...</td>\n",
       "      <td>Poppy: Yeah. I definitely prefer Lisbon\\r\\nHar...</td>\n",
       "    </tr>\n",
       "    <tr>\n",
       "      <th>3</th>\n",
       "      <td>3</td>\n",
       "      <td>ef458bfe-4bef-430c-8d97-8efc30b21ded</td>\n",
       "      <td>ann_ccry</td>\n",
       "      <td>13611442</td>\n",
       "      <td>gpt4-32k-0613</td>\n",
       "      <td>NaN</td>\n",
       "      <td>NaN</td>\n",
       "      <td>NaN</td>\n",
       "      <td>Helen was trying to reach Simon, but he was un...</td>\n",
       "      <td>Helen: Hey, Simo, are you there?\\r\\nSimon: Yep...</td>\n",
       "    </tr>\n",
       "    <tr>\n",
       "      <th>4</th>\n",
       "      <td>4</td>\n",
       "      <td>e861c609-240f-416e-8a33-c0188daee831</td>\n",
       "      <td>ann_ccry</td>\n",
       "      <td>13611442</td>\n",
       "      <td>gpt4-32k-0613</td>\n",
       "      <td>NaN</td>\n",
       "      <td>NaN</td>\n",
       "      <td>NaN</td>\n",
       "      <td>Helen was trying to reach Simon, but he was un...</td>\n",
       "      <td>Helen: Hey, Simo, are you there?\\r\\nSimon: Yep...</td>\n",
       "    </tr>\n",
       "  </tbody>\n",
       "</table>\n",
       "</div>"
      ],
      "text/plain": [
       "   Unnamed: 0                                  uuid   user_id     docid  \\\n",
       "0           0  b6273d21-9a0c-4033-8e2b-908d0a98c143   sanjana  13611370   \n",
       "1           1  ec577599-01d2-4ed5-af77-245326c3ac8b  ann_ccry  13611370   \n",
       "2           2  22a9198f-5a54-4d53-a630-552083d5b350  ann_ccry  13611426   \n",
       "3           3  ef458bfe-4bef-430c-8d97-8efc30b21ded  ann_ccry  13611442   \n",
       "4           4  e861c609-240f-416e-8a33-c0188daee831  ann_ccry  13611442   \n",
       "\n",
       "           model nonfactual_spans               evidence       error_type  \\\n",
       "0  gpt4-32k-0613              NaN                    NaN              NaN   \n",
       "1  gpt4-32k-0613          lans to                  Maybe  Intrinsic_Error   \n",
       "2  gpt4-32k-0613             both  principally the night  Intrinsic_Error   \n",
       "3  gpt4-32k-0613              NaN                    NaN              NaN   \n",
       "4  gpt4-32k-0613              NaN                    NaN              NaN   \n",
       "\n",
       "                                             summary  \\\n",
       "0  Derek asks Judy if she can feed his animals on...   \n",
       "1  Derek asks Judy if she can feed his animals on...   \n",
       "2  Poppy and Harry both prefer Lisbon, especially...   \n",
       "3  Helen was trying to reach Simon, but he was un...   \n",
       "4  Helen was trying to reach Simon, but he was un...   \n",
       "\n",
       "                                            dialogue  \n",
       "0  Derek: Judy, r you leaving for the weekend?\\r\\...  \n",
       "1  Derek: Judy, r you leaving for the weekend?\\r\\...  \n",
       "2  Poppy: Yeah. I definitely prefer Lisbon\\r\\nHar...  \n",
       "3  Helen: Hey, Simo, are you there?\\r\\nSimon: Yep...  \n",
       "4  Helen: Hey, Simo, are you there?\\r\\nSimon: Yep...  "
      ]
     },
     "execution_count": 7,
     "metadata": {},
     "output_type": "execute_result"
    }
   ],
   "source": [
    "df = get_annotations()\n",
    "df.head()"
   ]
  },
  {
   "cell_type": "code",
   "execution_count": 8,
   "id": "62d66ac5-90e4-4a00-8068-671bc85371c8",
   "metadata": {},
   "outputs": [
    {
     "data": {
      "text/html": [
       "<div>\n",
       "<style scoped>\n",
       "    .dataframe tbody tr th:only-of-type {\n",
       "        vertical-align: middle;\n",
       "    }\n",
       "\n",
       "    .dataframe tbody tr th {\n",
       "        vertical-align: top;\n",
       "    }\n",
       "\n",
       "    .dataframe thead th {\n",
       "        text-align: right;\n",
       "    }\n",
       "</style>\n",
       "<table border=\"1\" class=\"dataframe\">\n",
       "  <thead>\n",
       "    <tr style=\"text-align: right;\">\n",
       "      <th></th>\n",
       "      <th>Unnamed: 0</th>\n",
       "      <th>uuid</th>\n",
       "      <th>user_id</th>\n",
       "      <th>docid</th>\n",
       "      <th>model</th>\n",
       "      <th>nonfactual_spans</th>\n",
       "      <th>evidence</th>\n",
       "      <th>error_type</th>\n",
       "      <th>summary</th>\n",
       "      <th>dialogue</th>\n",
       "    </tr>\n",
       "  </thead>\n",
       "  <tbody>\n",
       "    <tr>\n",
       "      <th>1</th>\n",
       "      <td>1</td>\n",
       "      <td>ec577599-01d2-4ed5-af77-245326c3ac8b</td>\n",
       "      <td>ann_ccry</td>\n",
       "      <td>13611370</td>\n",
       "      <td>gpt4-32k-0613</td>\n",
       "      <td>lans to</td>\n",
       "      <td>Maybe</td>\n",
       "      <td>Intrinsic_Error</td>\n",
       "      <td>Derek asks Judy if she can feed his animals on...</td>\n",
       "      <td>Derek: Judy, r you leaving for the weekend?\\r\\...</td>\n",
       "    </tr>\n",
       "  </tbody>\n",
       "</table>\n",
       "</div>"
      ],
      "text/plain": [
       "   Unnamed: 0                                  uuid   user_id     docid  \\\n",
       "1           1  ec577599-01d2-4ed5-af77-245326c3ac8b  ann_ccry  13611370   \n",
       "\n",
       "           model nonfactual_spans evidence       error_type  \\\n",
       "1  gpt4-32k-0613          lans to    Maybe  Intrinsic_Error   \n",
       "\n",
       "                                             summary  \\\n",
       "1  Derek asks Judy if she can feed his animals on...   \n",
       "\n",
       "                                            dialogue  \n",
       "1  Derek: Judy, r you leaving for the weekend?\\r\\...  "
      ]
     },
     "execution_count": 8,
     "metadata": {},
     "output_type": "execute_result"
    }
   ],
   "source": [
    "df_errors = df[(~df['error_type'].isnull()) & (~df['evidence'].isnull())]\n",
    "df_errors.head()[:1]"
   ]
  },
  {
   "cell_type": "code",
   "execution_count": 28,
   "id": "7000b667-97e2-4663-834e-c31a2669bfc6",
   "metadata": {},
   "outputs": [
    {
     "name": "stdout",
     "output_type": "stream",
     "text": [
      "Convert the dialogue into facts without adding any unsupported details.\n",
      "Dialogue: Derek: Judy, r you leaving for the weekend?\n",
      "Judy: Nah\n",
      "Derek: So can you feed my animals on Friday and Saturday?\n",
      "Judy: sure, no problem\n",
      "Derek: Thank you :) Maybe on Thursday I would give you my keys?\n",
      "Judy: Ok\n",
      "Derek: Thanks :) Later I will tell you the details :)\n",
      "Judy: surely\n",
      "Facts:\n"
     ]
    },
    {
     "data": {
      "text/plain": [
       "('lans to',\n",
       " 'Maybe',\n",
       " [\"Derek asks Judy if she can feed his animals on Friday and Saturday as she isn''t leaving for the weekend.\",\n",
       "  'She agrees and Derek plans to give her his keys on Thursday.',\n",
       "  'He also promises to provide her with more details later.'])"
      ]
     },
     "execution_count": 28,
     "metadata": {},
     "output_type": "execute_result"
    }
   ],
   "source": [
    "last_row_idx = 1\n",
    "import spacy\n",
    "import nltk\n",
    "import re\n",
    "import string\n",
    "nlp = spacy.load('en_core_web_sm')\n",
    "\n",
    "def get_atomic_facts_gpt(gpt_model_atomic, model, text, text_type):\n",
    "    instr = f'Convert the {text_type} into facts without adding any unsupported details.'\n",
    "    prompt = f'{instr}\\nDialogue: {text}\\nFacts:'\n",
    "    print(prompt)\n",
    "    gpt_response = gpt_model_atomic.get_chatgpt_response(prompt, model = model)\n",
    "    # print(nltk.sent_tokenize(gpt_response))\n",
    "    return gpt_response\n",
    "    \n",
    "class GPTCall():\n",
    "    def __init__(self):\n",
    "        self.gpt_model_atomic = GPTInference()\n",
    "\n",
    "    def get_atomic_facts(self, dlg, gpt_model_type = 'gpt-4-32k-0613'):\n",
    "        atomic_facts = get_atomic_facts_gpt(self.gpt_model_atomic, gpt_model_type, dlg, 'dialogue')\n",
    "        # print(atomic_facts)\n",
    "        # atomic_facts = nltk.sent_tokenize(atomic_facts)\n",
    "        atomic_facts = list(nlp(atomic_facts).sents)\n",
    "        atomic_facts = [each.text for each in atomic_facts]\n",
    "        atomic_facts = [re.sub('[0-9]', '', each) for each in atomic_facts]\n",
    "        atomic_facts = [each.strip(string.punctuation).strip() for each in atomic_facts]\n",
    "        atomic_facts = [each for each in atomic_facts if each]\n",
    "        return atomic_facts \n",
    "        \n",
    "\n",
    "    \n",
    "def get_summary_sents(doc):\n",
    "    sents = list(nlp(doc).sents)\n",
    "    sents = [each.text for each in sents]\n",
    "    return sents\n",
    "\n",
    "gpt_call = GPTCall()\n",
    "def get_dialogue_sents(dlg):\n",
    "    dlg_sents = dlg.split('\\n')\n",
    "    atomic_facts = gpt_call.get_atomic_facts(dlg)\n",
    "    \n",
    "    return dlg_sents, atomic_facts\n",
    "    \n",
    "\n",
    "def get_membership_sents(span, src_sent):\n",
    "    membership_sents = []\n",
    "    for sent in sents:\n",
    "        if sent in src:\n",
    "            membership_sents.append(\n",
    "            \n",
    "nonfactual_sentences = []\n",
    "for summ_sent in summary_sents:\n",
    "    if nonfactual_spans in summ_sent:\n",
    "        nonfactual_sentences.append(summ_sent)\n",
    "\n",
    "evidence_uttx = []\n",
    "for dlg_sent in dlg_sents:\n",
    "    if evidence in dlg_sent:\n",
    "        evidence_uttx.append(dlg_sent)\n",
    "y_evidence_uttx = []\n",
    "y_summary_sentences = []\n",
    "for idx, row in df_errors[:last_row_idx].iterrows():\n",
    "    nonfactual_spans = row['nonfactual_spans']\n",
    "    evidence = row['evidence']\n",
    "    summary_sents = get_summary_sents(row['summary'])\n",
    "    dlg_sents, atomic_facts = get_dialogue_sents(row['dialogue'])\n",
    "    \n"
   ]
  },
  {
   "cell_type": "code",
   "execution_count": 67,
   "id": "d80e6157-739b-4db8-8ec9-91bf7094baf6",
   "metadata": {},
   "outputs": [
    {
     "name": "stdout",
     "output_type": "stream",
     "text": [
      "Extract only those turns from the snippet that are relevant to the sentence\n",
      "Dialogue: Derek: Judy, r you leaving for the weekend?\n",
      "Judy: Nah\n",
      "Derek: So can you feed my animals on Friday and Saturday?\n",
      "Judy: sure, no problem\n",
      "Derek: Thank you :) Maybe on Thursday I would give you my keys?\n",
      "Judy: Ok\n",
      "Derek: Thanks :) Later I will tell you the details :)\n",
      "Judy: surely\n",
      "Sentence: She agrees and Derek plans to give her his keys on Thursday.\n",
      "Relevant Turns:\n",
      "Derek: So can you feed my animals on Friday and Saturday?\n",
      "Judy: sure, no problem\n",
      "Derek: Thank you :) Maybe on Thursday I would give you my keys?\n",
      "Judy: Ok\n",
      "Derek: Thanks :) Later I will tell you the details :)\n",
      "Judy: surely\n"
     ]
    }
   ],
   "source": [
    "instruction = 'Extract only those turns from the snippet that are relevant to the sentence'\n",
    "prompt = f'{instruction}\\nDialogue: {dlg}\\nSentence: {summary_sents[1]}\\nRelevant Turns:'\n",
    "print(prompt)\n",
    "response = GPTInference().get_chatgpt_response(prompt)\n",
    "print(response)"
   ]
  },
  {
   "cell_type": "code",
   "execution_count": 66,
   "id": "e34a0b8e-7179-4f69-b7bf-694763a65360",
   "metadata": {},
   "outputs": [
    {
     "name": "stdout",
     "output_type": "stream",
     "text": [
      "Below is a sentence along with a dialogue. List all turns within the dialogue that partially or entirely support the sentence\n",
      "Dialogue: Derek: Judy, r you leaving for the weekend?\n",
      "Judy: Nah\n",
      "Derek: So can you feed my animals on Friday and Saturday?\n",
      "Judy: sure, no problem\n",
      "Derek: Thank you :) Maybe on Thursday I would give you my keys?\n",
      "Judy: Ok\n",
      "Derek: Thanks :) Later I will tell you the details :)\n",
      "Judy: surely\n",
      "Sentence: She agrees and Derek plans to give her his keys on Thursday.\n",
      "Supportive Turns:\n",
      "Judy: sure, no problem\n",
      "Derek: Thank you :) Maybe on Thursday I would give you my keys?\n",
      "Judy: Ok\n",
      "Derek: Thanks :) Later I will tell you the details :)\n",
      "Judy: surely\n"
     ]
    }
   ],
   "source": [
    "instruction = 'Below is a sentence along with a dialogue. List all turns within the dialogue that partially or entirely support the sentence'\n",
    "\n",
    "prompt = f'{instruction}\\nDialogue: {dlg}\\nSentence: {summary_sents[1]}\\nSupportive Turns:'\n",
    "print(prompt)\n",
    "response = GPTInference().get_chatgpt_response(prompt)\n",
    "print(response)"
   ]
  },
  {
   "cell_type": "code",
   "execution_count": 58,
   "id": "dd0eb4d7-6463-43a4-8ca2-0ee3beb86308",
   "metadata": {},
   "outputs": [
    {
     "data": {
      "text/plain": [
       "'Derek: Judy, r you leaving for the weekend?\\nJudy: Nah\\nDerek: So can you feed my animals on Friday and Saturday?\\nJudy: sure, no problem'"
      ]
     },
     "execution_count": 58,
     "metadata": {},
     "output_type": "execute_result"
    }
   ],
   "source": [
    "response"
   ]
  },
  {
   "cell_type": "code",
   "execution_count": 63,
   "id": "5fb1bf97-d047-4094-ad65-fe91e3648bdb",
   "metadata": {},
   "outputs": [
    {
     "data": {
      "text/plain": [
       "['Derek: Thank you :) Maybe on Thursday I would give you my keys?\\r']"
      ]
     },
     "execution_count": 63,
     "metadata": {},
     "output_type": "execute_result"
    }
   ],
   "source": [
    "# evidence_uttx_true = \n",
    "nonfactual_sentences = []\n",
    "for summ_sent in summary_sents:\n",
    "    if nonfactual_spans in summ_sent:\n",
    "        nonfactual_sentences.append(summ_sent)\n",
    "\n",
    "evidence_uttx = []\n",
    "for dlg_sent in dlg_sents:\n",
    "    if evidence in dlg_sent:\n",
    "        evidence_uttx.append(dlg_sent)\n",
    "evidence_uttx"
   ]
  },
  {
   "cell_type": "code",
   "execution_count": 64,
   "id": "e39bd82c-cfeb-4abe-b747-556c30a90fdd",
   "metadata": {},
   "outputs": [
    {
     "data": {
      "text/plain": [
       "['She agrees and Derek plans to give her his keys on Thursday.']"
      ]
     },
     "execution_count": 64,
     "metadata": {},
     "output_type": "execute_result"
    }
   ],
   "source": [
    "nonfactual_sentences"
   ]
  },
  {
   "cell_type": "code",
   "execution_count": 65,
   "id": "deee9f49-be53-420c-befa-e744ccc1aedd",
   "metadata": {},
   "outputs": [
    {
     "data": {
      "text/plain": [
       "[\"Derek asks Judy if she can feed his animals on Friday and Saturday as she isn''t leaving for the weekend.\",\n",
       " 'She agrees and Derek plans to give her his keys on Thursday.',\n",
       " 'He also promises to provide her with more details later.']"
      ]
     },
     "execution_count": 65,
     "metadata": {},
     "output_type": "execute_result"
    }
   ],
   "source": [
    "summary_sents"
   ]
  },
  {
   "cell_type": "code",
   "execution_count": null,
   "id": "45634a33-0e16-4b20-8def-5579295ec19d",
   "metadata": {},
   "outputs": [],
   "source": []
  }
 ],
 "metadata": {
  "kernelspec": {
   "display_name": "Python (eval_env)",
   "language": "python",
   "name": "eval_env"
  },
  "language_info": {
   "codemirror_mode": {
    "name": "ipython",
    "version": 3
   },
   "file_extension": ".py",
   "mimetype": "text/x-python",
   "name": "python",
   "nbconvert_exporter": "python",
   "pygments_lexer": "ipython3",
   "version": "3.8.13"
  }
 },
 "nbformat": 4,
 "nbformat_minor": 5
}
