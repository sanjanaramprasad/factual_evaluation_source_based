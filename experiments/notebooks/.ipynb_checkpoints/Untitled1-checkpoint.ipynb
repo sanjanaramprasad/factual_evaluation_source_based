{
 "cells": [
  {
   "cell_type": "code",
   "execution_count": 11,
   "id": "161972a4-4b7a-4634-819c-531283884acf",
   "metadata": {},
   "outputs": [],
   "source": [
    "import pandas as pd\n",
    "from GPTModel import GPTInference\n",
    "import spacy\n",
    "import re, string\n",
    "import nltk\n",
    "nlp = spacy.load(\"en_core_web_sm\")"
   ]
  },
  {
   "cell_type": "code",
   "execution_count": 12,
   "id": "ac926176-92f1-46e5-980a-40637bf5db48",
   "metadata": {},
   "outputs": [
    {
     "data": {
      "text/html": [
       "<div>\n",
       "<style scoped>\n",
       "    .dataframe tbody tr th:only-of-type {\n",
       "        vertical-align: middle;\n",
       "    }\n",
       "\n",
       "    .dataframe tbody tr th {\n",
       "        vertical-align: top;\n",
       "    }\n",
       "\n",
       "    .dataframe thead th {\n",
       "        text-align: right;\n",
       "    }\n",
       "</style>\n",
       "<table border=\"1\" class=\"dataframe\">\n",
       "  <thead>\n",
       "    <tr style=\"text-align: right;\">\n",
       "      <th></th>\n",
       "      <th>Unnamed: 0</th>\n",
       "      <th>uuid</th>\n",
       "      <th>user_id</th>\n",
       "      <th>docid</th>\n",
       "      <th>model</th>\n",
       "      <th>nonfactual_spans</th>\n",
       "      <th>evidence</th>\n",
       "      <th>error_type</th>\n",
       "      <th>summary</th>\n",
       "      <th>dialogue</th>\n",
       "    </tr>\n",
       "  </thead>\n",
       "  <tbody>\n",
       "    <tr>\n",
       "      <th>0</th>\n",
       "      <td>16</td>\n",
       "      <td>3cc5013c-4080-413e-aa5f-aec0dc93e349</td>\n",
       "      <td>sanjana</td>\n",
       "      <td>13681870</td>\n",
       "      <td>gpt4-32k-0613</td>\n",
       "      <td>NaN</td>\n",
       "      <td>NaN</td>\n",
       "      <td>NaN</td>\n",
       "      <td>Miley expresses her fatigue and lack of desire...</td>\n",
       "      <td>Miley: don''t want to go to work tomorrow!\\r\\n...</td>\n",
       "    </tr>\n",
       "    <tr>\n",
       "      <th>1</th>\n",
       "      <td>27</td>\n",
       "      <td>c094b128-08b6-4187-91cf-c44d9ab25baa</td>\n",
       "      <td>sanjana</td>\n",
       "      <td>13681871</td>\n",
       "      <td>gpt4-32k-0613</td>\n",
       "      <td>NaN</td>\n",
       "      <td>NaN</td>\n",
       "      <td>NaN</td>\n",
       "      <td>Andy informs Sue that he will be working late ...</td>\n",
       "      <td>Andy: Working late til 4 xx\\r\\nSue: no worries...</td>\n",
       "    </tr>\n",
       "    <tr>\n",
       "      <th>2</th>\n",
       "      <td>32</td>\n",
       "      <td>149452c6-bf79-47b0-b0ee-ecfcf99caa7f</td>\n",
       "      <td>sanjana</td>\n",
       "      <td>13681429</td>\n",
       "      <td>gpt4-32k-0613</td>\n",
       "      <td>NaN</td>\n",
       "      <td>NaN</td>\n",
       "      <td>NaN</td>\n",
       "      <td>Cass confirmed with Jordan that he received hi...</td>\n",
       "      <td>Cass: Hi darling, did you get your birthday ca...</td>\n",
       "    </tr>\n",
       "    <tr>\n",
       "      <th>3</th>\n",
       "      <td>34</td>\n",
       "      <td>a8c98d99-c964-46d0-a51c-bca6569900c1</td>\n",
       "      <td>sanjana</td>\n",
       "      <td>13681439</td>\n",
       "      <td>gpt4-32k-0613</td>\n",
       "      <td>NaN</td>\n",
       "      <td>NaN</td>\n",
       "      <td>NaN</td>\n",
       "      <td>Phoebe can''t go out because her mother is ang...</td>\n",
       "      <td>Phil: can you go out today?\\r\\nPhoebe: no\\r\\nP...</td>\n",
       "    </tr>\n",
       "    <tr>\n",
       "      <th>4</th>\n",
       "      <td>36</td>\n",
       "      <td>48d59334-9492-4cc1-a5ce-1b0378e34a1f</td>\n",
       "      <td>sanjana</td>\n",
       "      <td>13681441</td>\n",
       "      <td>gpt4-32k-0613</td>\n",
       "      <td>NaN</td>\n",
       "      <td>NaN</td>\n",
       "      <td>NaN</td>\n",
       "      <td>Joanna shares with Merve that their mutual acq...</td>\n",
       "      <td>Joanna: They are sending emails about Lewandow...</td>\n",
       "    </tr>\n",
       "  </tbody>\n",
       "</table>\n",
       "</div>"
      ],
      "text/plain": [
       "   Unnamed: 0                                  uuid  user_id     docid  \\\n",
       "0          16  3cc5013c-4080-413e-aa5f-aec0dc93e349  sanjana  13681870   \n",
       "1          27  c094b128-08b6-4187-91cf-c44d9ab25baa  sanjana  13681871   \n",
       "2          32  149452c6-bf79-47b0-b0ee-ecfcf99caa7f  sanjana  13681429   \n",
       "3          34  a8c98d99-c964-46d0-a51c-bca6569900c1  sanjana  13681439   \n",
       "4          36  48d59334-9492-4cc1-a5ce-1b0378e34a1f  sanjana  13681441   \n",
       "\n",
       "           model nonfactual_spans evidence error_type  \\\n",
       "0  gpt4-32k-0613              NaN      NaN        NaN   \n",
       "1  gpt4-32k-0613              NaN      NaN        NaN   \n",
       "2  gpt4-32k-0613              NaN      NaN        NaN   \n",
       "3  gpt4-32k-0613              NaN      NaN        NaN   \n",
       "4  gpt4-32k-0613              NaN      NaN        NaN   \n",
       "\n",
       "                                             summary  \\\n",
       "0  Miley expresses her fatigue and lack of desire...   \n",
       "1  Andy informs Sue that he will be working late ...   \n",
       "2  Cass confirmed with Jordan that he received hi...   \n",
       "3  Phoebe can''t go out because her mother is ang...   \n",
       "4  Joanna shares with Merve that their mutual acq...   \n",
       "\n",
       "                                            dialogue  \n",
       "0  Miley: don''t want to go to work tomorrow!\\r\\n...  \n",
       "1  Andy: Working late til 4 xx\\r\\nSue: no worries...  \n",
       "2  Cass: Hi darling, did you get your birthday ca...  \n",
       "3  Phil: can you go out today?\\r\\nPhoebe: no\\r\\nP...  \n",
       "4  Joanna: They are sending emails about Lewandow...  "
      ]
     },
     "execution_count": 12,
     "metadata": {},
     "output_type": "execute_result"
    }
   ],
   "source": [
    "df = pd.read_csv('/home/sanjana/factual_evaluation_source_based/datasets/llm_annotations/sample/sample_annotations_sanjana.csv')\n",
    "# df = df[df['origin'] != 'RefMatters_DialogSu']\n",
    "df.head()"
   ]
  },
  {
   "cell_type": "code",
   "execution_count": 96,
   "id": "53319447-779b-4f97-9ac1-1441365d1d43",
   "metadata": {},
   "outputs": [],
   "source": [
    "\n",
    "def get_atomic_facts_gpt(gpt_model_atomic, text, text_type):\n",
    "    instr = f'Segment the following {text_type} into facts without introducing any unsupported information'\n",
    "    prompt = f'{instr}\\nDialogue: {text}'\n",
    "    print(prompt)\n",
    "    gpt_response = gpt_model_atomic.get_chatgpt_response(prompt)\n",
    "    return gpt_response\n",
    "\n",
    "def mask_all_errtypes(text):\n",
    "    doc = nlp(text)\n",
    "    origin_tokens = [token for token in doc]\n",
    "    all_masked_results = []\n",
    "    mask_idx = []\n",
    "    mask_tokens = []\n",
    "    for idx, token in enumerate(doc):\n",
    "        append = False\n",
    "        if 'subj' in token.dep_ or 'obj' in token.dep_:\n",
    "            # print(idx, origin_tokens)\n",
    "            # masked_text = [each.text for each in origin_tokens[:idx]] + ['<BLANK>'] + [each.text for each in origin_tokens[idx+1:]]\n",
    "            # masked_text = ' '.join(masked_text)\n",
    "            # print(masked_text)\n",
    "            append = True\n",
    "            token_type = 'subjobj'\n",
    "            \n",
    "        elif 'VERB' == token.pos_:\n",
    "            append = True \n",
    "            token_type = 'predicate'\n",
    "\n",
    "        elif 'ADV' == token.pos_:\n",
    "            append = True\n",
    "            token_type = 'circumstance'\n",
    "\n",
    "        elif 'ADP' == token.pos_:\n",
    "            append = True\n",
    "            token_type = 'circumstance'\n",
    "\n",
    "        elif 'PRON' == token.pos_:\n",
    "            append = True\n",
    "            token_type = 'coreference'\n",
    "\n",
    "        \n",
    "\n",
    "        if append:\n",
    "            mask_idx.append(idx)\n",
    "            mask_tokens.append((idx, token.text, token_type))\n",
    "    # print([])\n",
    "    # print(mask_tokens)  \n",
    "\n",
    "    error_types_indices_map = {}\n",
    "    for token_idx, token_text, err_type in mask_tokens:\n",
    "        if err_type not in error_types_indices_map:\n",
    "            error_types_indices_map[err_type] = []\n",
    "        error_types_indices_map[err_type] += [token_idx]\n",
    "        \n",
    "    for err_type, err_indices in error_types_indices_map.items():\n",
    "        for idx in err_indices:\n",
    "            masked_text = [each.text for each in origin_tokens[:idx]] + ['<BLANK>'] + [each.text for each in origin_tokens[idx+1:]]\n",
    "            masked_text = ' '.join(masked_text)\n",
    "            all_masked_results.append((masked_text, origin_tokens[idx].text, err_type))\n",
    "    return all_masked_results\n",
    "\n",
    "def get_atomic_facts_gpt(gpt_model_atomic, model, text, text_type):\n",
    "    instr = f'Write the {text_type} into indirect speech without introducing any unsupported information or inferences'\n",
    "    prompt = f'{instr}\\nDialogue: {text}'\n",
    "    print(prompt)\n",
    "    gpt_response = gpt_model_atomic.get_chatgpt_response(prompt, model = model)\n",
    "    # print(nltk.sent_tokenize(gpt_response))\n",
    "    return gpt_response\n",
    "\n",
    "\n",
    "def get_atomic_facts_gpt(gpt_model_atomic, model, text, text_type):\n",
    "    instr = f'Segment the following {text_type} into facts without introducing any unsupported information'\n",
    "    prompt = f'{instr}\\nDialogue: {text}'\n",
    "    print(prompt)\n",
    "    gpt_response = gpt_model_atomic.get_chatgpt_response(prompt)\n",
    "    return gpt_response\n",
    "\n",
    "def get_atomic_facts(gpt_model_atomic, dlg):\n",
    "        atomic_facts = get_atomic_facts_gpt(gpt_model_atomic, 'gpt-4-32k-0613', dlg, 'dialogue')\n",
    "        atomic_facts = nltk.sent_tokenize(atomic_facts)\n",
    "        atomic_facts = [re.sub('[1-9]', '', each) for each in atomic_facts]\n",
    "        atomic_facts = [each.strip(string.punctuation).strip() for each in atomic_facts]\n",
    "        return atomic_facts"
   ]
  },
  {
   "cell_type": "code",
   "execution_count": 97,
   "id": "3c1688f4-881a-4a64-8ffb-fc348a2c4644",
   "metadata": {},
   "outputs": [],
   "source": [
    "gpt_model_corruptor = GPTInference()\n",
    "gpt_model_sentence_checker = GPTInference()\n",
    "gpt_model_atomic = GPTInference()\n",
    "gpt_model_nli = GPTInference()"
   ]
  },
  {
   "cell_type": "code",
   "execution_count": 334,
   "id": "759f38e6-ddba-4fe0-bc6a-c618d6e510b9",
   "metadata": {},
   "outputs": [
    {
     "name": "stdout",
     "output_type": "stream",
     "text": [
      "Julie: hey guys... could you just talk to me for a bit? I just watched this Japanese horror movie and I''m home alone and a little uneasy (aka scared shitless)\n",
      "Rose: Jesus, why on earth would you watch a Japanese horror, home alone at this hour?\n",
      "Julie: Cause I''m a fucking moron?\n",
      "Rose: Cause you''re a fuckin moron. \n",
      "Paula: 5 point for Gryffindor, my friend. But in your defense, I always thought you were quite unaffected by horror movies.\n",
      "Julie: That''s what I thought too!\n",
      "Paula: So what kinda movie was it?\n",
      "Julie: <file_other>\n",
      "Rose: seems pretty generic\n",
      "Julie: It''s scarier than it looks.\n",
      "Rose: you know that japanese horror are the worst ones, right?\n",
      "Julie: I know that now.\n",
      "Paula: If... you want me to come over I can.\n",
      "Julie: omg really? <3\n",
      "Paula: Yeah, sure, it''s like 20 minutes by bike to your house, we can drink cocoa and watch \"when harry met Sally\" until we fall asleep ;)\n",
      "Julie: Omg Thank you so much, I love you!\n",
      "Rose: I wish I lived in your neighborhood :(\n",
      "Paula: We can chip in for an Uber for you :D\n",
      "Julie: Let''s have a spontaneous sleepover :D\n",
      "Rose: Oh, man it''s late, but why the hell not.\n",
      "Rose: I''ll bring cookies for the cocoa :D\n",
      "Julie: yay :D\n",
      "After watching a Japanese horror movie late at night while home alone, Julie is left feeling scared and reaches out to her friends Rose and Paula for comfort. Rose criticizes Julie for watching a horror movie alone, despite being aware of their intensity. Paula offers to come over to Julie''s house to keep her company, suggesting they watch a non-scary movie and have some cocoa. Julie expresses gratitude and invites Rose over as well for a spontaneous sleepover. Despite the late hour, Rose agrees to come, promising to bring cookies.\n",
      "a non-scary movie\n"
     ]
    }
   ],
   "source": [
    "row = df[~df['nonfactual_spans'].isnull()].sample(1)\n",
    "text = row['summary'].values[0]\n",
    "dlg = row['dialogue'].values[0]\n",
    "print(row['dialogue'].values[0])\n",
    "print(row['summary'].values[0])\n",
    "print(row['nonfactual_spans'].values[0])"
   ]
  },
  {
   "cell_type": "code",
   "execution_count": 335,
   "id": "9f0aa534-8c12-436c-9dc3-e1856b31ba95",
   "metadata": {},
   "outputs": [
    {
     "data": {
      "text/html": [
       "<div>\n",
       "<style scoped>\n",
       "    .dataframe tbody tr th:only-of-type {\n",
       "        vertical-align: middle;\n",
       "    }\n",
       "\n",
       "    .dataframe tbody tr th {\n",
       "        vertical-align: top;\n",
       "    }\n",
       "\n",
       "    .dataframe thead th {\n",
       "        text-align: right;\n",
       "    }\n",
       "</style>\n",
       "<table border=\"1\" class=\"dataframe\">\n",
       "  <thead>\n",
       "    <tr style=\"text-align: right;\">\n",
       "      <th></th>\n",
       "      <th>Unnamed: 0</th>\n",
       "      <th>uuid</th>\n",
       "      <th>user_id</th>\n",
       "      <th>docid</th>\n",
       "      <th>model</th>\n",
       "      <th>nonfactual_spans</th>\n",
       "      <th>evidence</th>\n",
       "      <th>error_type</th>\n",
       "      <th>summary</th>\n",
       "      <th>dialogue</th>\n",
       "    </tr>\n",
       "  </thead>\n",
       "  <tbody>\n",
       "    <tr>\n",
       "      <th>166</th>\n",
       "      <td>203</td>\n",
       "      <td>6d7363bb-1374-48da-9156-f06a609e8e58</td>\n",
       "      <td>sanjana</td>\n",
       "      <td>13821073</td>\n",
       "      <td>gpt4-32k-0613</td>\n",
       "      <td>a non-scary movie</td>\n",
       "      <td>Not found</td>\n",
       "      <td>Extrinsic_Error</td>\n",
       "      <td>After watching a Japanese horror movie late at...</td>\n",
       "      <td>Julie: hey guys... could you just talk to me f...</td>\n",
       "    </tr>\n",
       "  </tbody>\n",
       "</table>\n",
       "</div>"
      ],
      "text/plain": [
       "     Unnamed: 0                                  uuid  user_id     docid  \\\n",
       "166         203  6d7363bb-1374-48da-9156-f06a609e8e58  sanjana  13821073   \n",
       "\n",
       "             model   nonfactual_spans   evidence       error_type  \\\n",
       "166  gpt4-32k-0613  a non-scary movie  Not found  Extrinsic_Error   \n",
       "\n",
       "                                               summary  \\\n",
       "166  After watching a Japanese horror movie late at...   \n",
       "\n",
       "                                              dialogue  \n",
       "166  Julie: hey guys... could you just talk to me f...  "
      ]
     },
     "execution_count": 335,
     "metadata": {},
     "output_type": "execute_result"
    }
   ],
   "source": [
    "row"
   ]
  },
  {
   "cell_type": "code",
   "execution_count": 343,
   "id": "4187228c-0a92-4ee6-bcc5-ec9db5eec379",
   "metadata": {},
   "outputs": [
    {
     "name": "stdout",
     "output_type": "stream",
     "text": [
      "Segment the following dialogue into facts without introducing any unsupported information\n",
      "Dialogue: Julie: hey guys... could you just talk to me for a bit? I just watched this Japanese horror movie and I''m home alone and a little uneasy (aka scared shitless)\n",
      "Rose: Jesus, why on earth would you watch a Japanese horror, home alone at this hour?\n",
      "Julie: Cause I''m a fucking moron?\n",
      "Rose: Cause you''re a fuckin moron. \n",
      "Paula: 5 point for Gryffindor, my friend. But in your defense, I always thought you were quite unaffected by horror movies.\n",
      "Julie: That''s what I thought too!\n",
      "Paula: So what kinda movie was it?\n",
      "Julie: <file_other>\n",
      "Rose: seems pretty generic\n",
      "Julie: It''s scarier than it looks.\n",
      "Rose: you know that japanese horror are the worst ones, right?\n",
      "Julie: I know that now.\n",
      "Paula: If... you want me to come over I can.\n",
      "Julie: omg really? <3\n",
      "Paula: Yeah, sure, it''s like 20 minutes by bike to your house, we can drink cocoa and watch \"when harry met Sally\" until we fall asleep ;)\n",
      "Julie: Omg Thank you so much, I love you!\n",
      "Rose: I wish I lived in your neighborhood :(\n",
      "Paula: We can chip in for an Uber for you :D\n",
      "Julie: Let''s have a spontaneous sleepover :D\n",
      "Rose: Oh, man it''s late, but why the hell not.\n",
      "Rose: I''ll bring cookies for the cocoa :D\n",
      "Julie: yay :D\n"
     ]
    }
   ],
   "source": [
    "atomic_facts = get_atomic_facts(gpt_model_atomic, dlg)\n",
    "atomic_facts = ' '.join(atomic_facts)"
   ]
  },
  {
   "cell_type": "code",
   "execution_count": 344,
   "id": "2bd56239-20cc-4608-8354-07736fc8c541",
   "metadata": {},
   "outputs": [
    {
     "data": {
      "text/plain": [
       "' Julie watched a Japanese horror movie while home alone  Julie feels scared after watching the movie  Rose asks Julie why she would watch a horror movie alone at night  Julie jokes about being a moron for watching the horror movie alone  Paula awards  points to Julie and mentions that she thought Julie was unaffected by horror movies  Julie also thought she was unaffected by horror movies  Paula asks about the type of movie Julie watched  Julie provides a file related to the movie she watched  Rose comments that the movie seems generic 0 Julie states that the movie was scarier than it looks  Rose says that Japanese horror movies are the worst  Julie admits that she now knows how scary Japanese horror movies can be  Paula offers to come over to Julie\\'s house  Julie is thankful and accepts Paula\\'s offer  Paula points out that it takes 0 minutes by bike to get to Julie\\'s house and suggests they can watch \"When Harry Met Sally\" and drink cocoa  Julie expresses her appreciation and love towards Paula  Rose wishes she lived in the same neighborhood as Julie and Paula  Paula suggests chipping in for an Uber for Rose  Julie suggests having a spontaneous sleepover 0 Rose agrees to come even though it\\'s late and promises to bring cookies for the cocoa  Julie expresses happiness about Rose\\'s decision to join the sleepover'"
      ]
     },
     "execution_count": 344,
     "metadata": {},
     "output_type": "execute_result"
    }
   ],
   "source": [
    "atomic_facts"
   ]
  },
  {
   "cell_type": "code",
   "execution_count": 352,
   "id": "3bd42248-feea-4f8d-8369-9bf4a6a1eaaf",
   "metadata": {},
   "outputs": [
    {
     "data": {
      "text/plain": [
       "\"1. Japanese horror movie\\n2. Night\\n3. Home\\n4. Julie\\n5. Friends\\n6. Rose\\n7. Paula\\n8. Comfort\\n9. Horror movie\\n10. Intensity\\n11. Julie's house\\n12. Company\\n13. Non-scary movie\\n14. Cocoa\\n15. Gratitude\\n16. Spontaneous sleepover\\n17. Late hour\\n18. Cookies\""
      ]
     },
     "execution_count": 352,
     "metadata": {},
     "output_type": "execute_result"
    }
   ],
   "source": [
    "instr = 'Extract and list all subject/object words or phrases from the summary'\n",
    "prompt = f'{instr}\\nSummary:{text}\\nList:'\n",
    "answers = GPTInference().get_chatgpt_response(prompt)\n",
    "answers"
   ]
  },
  {
   "cell_type": "code",
   "execution_count": 346,
   "id": "16147941-cbaa-4a21-a60f-3235a35e2fa2",
   "metadata": {},
   "outputs": [
    {
     "name": "stdout",
     "output_type": "stream",
     "text": [
      "Extract and list all subject/object words or phrases from the summary\n",
      "Summary:After watching a Japanese horror movie late at night while home alone, Julie is left feeling scared and reaches out to her friends Rose and Paula for comfort. Rose criticizes Julie for watching a horror movie alone, despite being aware of their intensity. Paula offers to come over to Julie''s house to keep her company, suggesting they watch a non-scary movie and have some cocoa. Julie expresses gratitude and invites Rose over as well for a spontaneous sleepover. Despite the late hour, Rose agrees to come, promising to bring cookies.\n",
      "List:\n"
     ]
    }
   ],
   "source": [
    "print(prompt)"
   ]
  },
  {
   "cell_type": "code",
   "execution_count": 353,
   "id": "22a2a1d1-122f-45e4-9ae5-3d1959e7ac41",
   "metadata": {},
   "outputs": [
    {
     "data": {
      "text/plain": [
       "['Japanese horror movie',\n",
       " 'Night',\n",
       " 'Home',\n",
       " 'Julie',\n",
       " 'Friends',\n",
       " 'Rose',\n",
       " 'Paula',\n",
       " 'Comfort',\n",
       " 'Horror movie',\n",
       " 'Intensity',\n",
       " 'Company',\n",
       " 'Non-scary movie',\n",
       " 'Cocoa',\n",
       " 'Gratitude',\n",
       " 'Spontaneous sleepover',\n",
       " 'Late hour',\n",
       " 'Cookies']"
      ]
     },
     "execution_count": 353,
     "metadata": {},
     "output_type": "execute_result"
    }
   ],
   "source": [
    "answers = [re.sub('[1-9]?[1-9].', '', each) for each in answers.split('\\n')]\n",
    "answers = [each.strip(string.punctuation) for each in answers]\n",
    "answers = [each.strip() for each in answers if each in text or each.lower() in text.lower()]\n",
    "\n",
    "answers"
   ]
  },
  {
   "cell_type": "code",
   "execution_count": 363,
   "id": "6b21722a-b3f8-4d82-aa8a-b510aaf1ccea",
   "metadata": {},
   "outputs": [
    {
     "data": {
      "text/plain": [
       "'- watching\\n- is left feeling\\n- reaches out \\n- criticizes\\n- being aware of\\n- offers to come over\\n- suggesting\\n- watch\\n- have\\n- expresses gratitude \\n- invites\\n- agrees to come\\n- promising to bring'"
      ]
     },
     "execution_count": 363,
     "metadata": {},
     "output_type": "execute_result"
    }
   ],
   "source": [
    "instr = 'Extract and list all predicate words or phrases from the summary'\n",
    "prompt = f'{instr}\\nSummary:{text}\\nList:'\n",
    "answers = GPTInference().get_chatgpt_response(prompt)\n",
    "answers"
   ]
  },
  {
   "cell_type": "code",
   "execution_count": 364,
   "id": "663bfb1b-f3cf-4dcb-8865-1647321a712b",
   "metadata": {},
   "outputs": [
    {
     "data": {
      "text/plain": [
       "['watching',\n",
       " 'is left feeling',\n",
       " 'reaches out',\n",
       " 'criticizes',\n",
       " 'being aware of',\n",
       " 'offers to come over',\n",
       " 'suggesting',\n",
       " 'watch',\n",
       " 'have',\n",
       " 'expresses gratitude',\n",
       " 'invites',\n",
       " 'agrees to come',\n",
       " 'promising to bring']"
      ]
     },
     "execution_count": 364,
     "metadata": {},
     "output_type": "execute_result"
    }
   ],
   "source": [
    "answers = [re.sub('[1-9]?[1-9].', '', each) for each in answers.split('\\n')]\n",
    "answers = [each.strip(string.punctuation) for each in answers]\n",
    "answers = [each.strip() for each in answers if each in text or each.lower() in text.lower()]\n",
    "\n",
    "answers"
   ]
  },
  {
   "cell_type": "code",
   "execution_count": 365,
   "id": "d0280e43-e138-4586-9de7-0ec2d780e6ca",
   "metadata": {},
   "outputs": [
    {
     "data": {
      "text/plain": [
       "\"After watching a Japanese horror movie late at night while home alone, Julie is left feeling scared and reaches out to her friends Rose and Paula for comfort. Rose criticizes Julie for watching a horror movie alone, despite <BLANK> their intensity. Paula offers to come over to Julie''s house to keep her company, suggesting they watch a non-scary movie and have some cocoa. Julie expresses gratitude and invites Rose over as well for a spontaneous sleepover. Despite the late hour, Rose agrees to come, promising to bring cookies.\""
      ]
     },
     "execution_count": 365,
     "metadata": {},
     "output_type": "execute_result"
    }
   ],
   "source": [
    "masked_text = re.sub(answers[4], '<BLANK>', text)\n",
    "if (masked_text == text):\n",
    "    masked_text = re.sub(answers[4].lower(), '<BLANK>', text.lower())\n",
    "masked_text"
   ]
  },
  {
   "cell_type": "code",
   "execution_count": 366,
   "id": "dfb45f68-b078-4411-b203-eb5782e1c8eb",
   "metadata": {},
   "outputs": [
    {
     "data": {
      "text/plain": [
       "[\"Julie's previous belief that she was unaffected by\"]"
      ]
     },
     "execution_count": 366,
     "metadata": {},
     "output_type": "execute_result"
    }
   ],
   "source": [
    "prompt = f'Fill in the <BLANK> in the summary with information extracted from the source\\nSource:{atomic_facts}\\nSummary:{masked_text}\\nAnswer:'\n",
    "questions = GPTInference().get_chatgpt_response(prompt)\n",
    "questions = questions.split('\\n')\n",
    "questions"
   ]
  },
  {
   "cell_type": "code",
   "execution_count": 362,
   "id": "8213eb44-8fc9-4692-b395-f4b96cc3855d",
   "metadata": {},
   "outputs": [
    {
     "name": "stdout",
     "output_type": "stream",
     "text": [
      "Fill in the <BLANK> in the summary with information extracted from the source\n",
      "Source: Julie watched a Japanese horror movie while home alone  Julie feels scared after watching the movie  Rose asks Julie why she would watch a horror movie alone at night  Julie jokes about being a moron for watching the horror movie alone  Paula awards  points to Julie and mentions that she thought Julie was unaffected by horror movies  Julie also thought she was unaffected by horror movies  Paula asks about the type of movie Julie watched  Julie provides a file related to the movie she watched  Rose comments that the movie seems generic 0 Julie states that the movie was scarier than it looks  Rose says that Japanese horror movies are the worst  Julie admits that she now knows how scary Japanese horror movies can be  Paula offers to come over to Julie's house  Julie is thankful and accepts Paula's offer  Paula points out that it takes 0 minutes by bike to get to Julie's house and suggests they can watch \"When Harry Met Sally\" and drink cocoa  Julie expresses her appreciation and love towards Paula  Rose wishes she lived in the same neighborhood as Julie and Paula  Paula suggests chipping in for an Uber for Rose  Julie suggests having a spontaneous sleepover 0 Rose agrees to come even though it's late and promises to bring cookies for the cocoa  Julie expresses happiness about Rose's decision to join the sleepover\n",
      "Summary:after watching a japanese horror movie late at night while home alone, julie is left feeling scared and reaches out to her friends rose and paula for comfort. rose criticizes julie for watching a horror movie alone, despite being aware of their intensity. paula offers to come over to julie''s house to keep her company, suggesting they watch a <BLANK> and have some cocoa. julie expresses gratitude and invites rose over as well for a spontaneous sleepover. despite the late hour, rose agrees to come, promising to bring cookies.\n",
      "Answer:\n"
     ]
    }
   ],
   "source": [
    "print(prompt)"
   ]
  },
  {
   "cell_type": "code",
   "execution_count": 282,
   "id": "82c2b3d5-9f43-44bd-a7a5-e5c66319c256",
   "metadata": {},
   "outputs": [
    {
     "ename": "IndexError",
     "evalue": "list index out of range",
     "output_type": "error",
     "traceback": [
      "\u001b[0;31m---------------------------------------------------------------------------\u001b[0m",
      "\u001b[0;31mIndexError\u001b[0m                                Traceback (most recent call last)",
      "Cell \u001b[0;32mIn[282], line 1\u001b[0m\n\u001b[0;32m----> 1\u001b[0m prompt \u001b[38;5;241m=\u001b[39m \u001b[38;5;124mf\u001b[39m\u001b[38;5;124m'\u001b[39m\u001b[38;5;124mSource: \u001b[39m\u001b[38;5;132;01m{\u001b[39;00matomic_facts\u001b[38;5;132;01m}\u001b[39;00m\u001b[38;5;130;01m\\n\u001b[39;00m\u001b[38;5;124mQuestion:\u001b[39m\u001b[38;5;132;01m{\u001b[39;00mquestions[\u001b[38;5;241m5\u001b[39m]\u001b[38;5;132;01m}\u001b[39;00m\u001b[38;5;130;01m\\n\u001b[39;00m\u001b[38;5;124mAnswer using the source in few words\u001b[39m\u001b[38;5;130;01m\\n\u001b[39;00m\u001b[38;5;124mAnswer:\u001b[39m\u001b[38;5;124m'\u001b[39m\n\u001b[1;32m      2\u001b[0m qa \u001b[38;5;241m=\u001b[39m GPTInference()\u001b[38;5;241m.\u001b[39mget_chatgpt_response(prompt)\n\u001b[1;32m      3\u001b[0m qa \u001b[38;5;241m=\u001b[39m qa\u001b[38;5;241m.\u001b[39msplit(\u001b[38;5;124m'\u001b[39m\u001b[38;5;130;01m\\n\u001b[39;00m\u001b[38;5;124m'\u001b[39m)\n",
      "\u001b[0;31mIndexError\u001b[0m: list index out of range"
     ]
    }
   ],
   "source": [
    "prompt = f'Source: {atomic_facts}\\nQuestion:{questions[5]}\\nAnswer using the source in few words\\nAnswer:'\n",
    "qa = GPTInference().get_chatgpt_response(prompt)\n",
    "qa = qa.split('\\n')\n",
    "qa"
   ]
  },
  {
   "cell_type": "code",
   "execution_count": 237,
   "id": "b56cc7eb-9087-4543-adde-d7d3c5441890",
   "metadata": {},
   "outputs": [
    {
     "data": {
      "text/plain": [
       "'Source:  Lee is scared and confused  The digital wizard client manager, who normally only wears hoodies, is wearing a dress shirt and suit jacket  Lee makes a joke that the Russians are coming  Andy suggests the digital wizard client manager might have a date after work  Andy makes a joke that the date may be with a Russian soldier  Lee guesses that the manager may have a client-related presentation  Lee comments that the situation is unusual  Lee has been working at the office for almost five months  This is the first time Lee has seen the manager dressed in formal wear 0 Andy suggests that Lee take pictures of the manager and make fun of him later  Lee agrees and decides to take a quick picture and post it on their corporate Facebook page  Lee purchased RoS CE digitally in a spur-of-the-moment decision  Buying RoS CE unlocked some features for Lee such as a pet for WoW, decals for SC, and a hero for an unreleased game  Andy points out that those features would be available anyway for buyers closer to the launch date  Lee\\'s preorder unlocked wings and a Demon Hunter for Heroes of the Storm  The wings haven\\'t been applied yet and Lee prefers the look of the wings from the original CE  Andy quotes a promotion that people who redeem a Reaper of Souls retail game key on or before March  Lee admits to making a quick purchase while they still had money in their account\\nQuestion:2. Who jokingly suggested that the unusual dress code could be a sign that \"The Russians are coming\"?\\nAnswer using the source in few words\\nAnswer:'"
      ]
     },
     "execution_count": 237,
     "metadata": {},
     "output_type": "execute_result"
    }
   ],
   "source": [
    "prompt"
   ]
  },
  {
   "cell_type": "code",
   "execution_count": 252,
   "id": "afcb5764-7b5f-4a5a-a077-0fee729530bf",
   "metadata": {},
   "outputs": [
    {
     "name": "stdout",
     "output_type": "stream",
     "text": [
      "Lee: I''m scared and confused. The digital wizard client manager who normally wears only hoodies, just put on a proper dress shirt and a suit jacket.\n",
      "Lee: The Russians are coming!\n",
      "Andy: Maybe he has a date after work?\n",
      "Andy: Possibly with a Russian soldier ;)\n",
      "Lee: If I''m not mistaken, he has some sort of a client related presentation.\n",
      "Lee: But it''s still weird.\n",
      "Lee: I''ve been here for almost 5 months and this is the first time I see something like this. :D\n",
      "Andy: Take pictures and make fun of him in a couple of weeks :P\n",
      "Lee: I should.\n",
      "Lee: Quick picture and post to FB.\n",
      "Andy: The corporate one!\n",
      "Lee: Yeah!\n",
      "Lee: But on a more interesting topic, I went and pre-purchased RoS CE in a temporal break of my brains.\n",
      "Andy: Digital or the \"real\" one?\n",
      "Lee: Digital.\n",
      "Andy: Did it unlock any features already?\n",
      "Lee: Pet for WoW, some decals for SC2.\n",
      "Lee: Pre-ordering opened up a hero in a game not yet released. :D\n",
      "Andy: So basically you got some goodies that you would get anyway by buying it closer to launch date? :P\n",
      "Lee: Yeah, preorder...\n",
      "Lee: Wait, wait! Wings! Wings and a Demon Hunter for Heroes of the Storm.\n",
      "Lee: Although wings not applied yet and I prefer the look of the wings from the original CE.\n",
      "Lee: <file_other>\n",
      "Andy: \"or anyone who redeems a Reaper of Souls retail game key on or before March 31\" - so basically what I said :P\n",
      "Lee: Well yeah but I just took a quick bullet when I still had some money on my account.\n"
     ]
    }
   ],
   "source": [
    "print(dlg)"
   ]
  },
  {
   "cell_type": "code",
   "execution_count": 234,
   "id": "5cd214a2-18e9-4747-802c-6c67199fcb31",
   "metadata": {},
   "outputs": [
    {
     "data": {
      "text/plain": [
       "'Lee discusses his surprise at seeing a normally casual-dressed colleague wearing a dress shirt and suit jacket to work, jokingly suggesting that the strange occurrence could signal \"The Russians are coming.\" Andy teasingly suggests the individual might have a date later, or a client presentation. Lee then mentions pre-purchasing a digital copy of RoS CE, which resulted in bonus features such as a pet for World of Warcraft, decals for Starcraft 2, and a hero in an unreleased game. Lee and Andy briefly argue about the value of pre-order bonuses with Andy suggesting that Lee would get the same bonuses if he bought the game closer to the release date.'"
      ]
     },
     "execution_count": 234,
     "metadata": {},
     "output_type": "execute_result"
    }
   ],
   "source": [
    "text"
   ]
  },
  {
   "cell_type": "code",
   "execution_count": 216,
   "id": "4fc1bc41-4b7e-4f8f-806a-ed71ee304dbe",
   "metadata": {},
   "outputs": [],
   "source": [
    "atomic_facts = ' '.join(atomic_facts)"
   ]
  },
  {
   "cell_type": "code",
   "execution_count": null,
   "id": "eef888b6-4e52-4aa7-a543-f103b1cb77d2",
   "metadata": {},
   "outputs": [],
   "source": []
  }
 ],
 "metadata": {
  "kernelspec": {
   "display_name": "Python (eval_env)",
   "language": "python",
   "name": "eval_env"
  },
  "language_info": {
   "codemirror_mode": {
    "name": "ipython",
    "version": 3
   },
   "file_extension": ".py",
   "mimetype": "text/x-python",
   "name": "python",
   "nbconvert_exporter": "python",
   "pygments_lexer": "ipython3",
   "version": "3.8.13"
  }
 },
 "nbformat": 4,
 "nbformat_minor": 5
}
