{
 "cells": [
  {
   "cell_type": "code",
   "execution_count": 1,
   "id": "eb6b1680",
   "metadata": {},
   "outputs": [],
   "source": [
    "\n",
    "\n",
    "import pandas as pd\n",
    "\n",
    "\n",
    "\n",
    "\n",
    "\n"
   ]
  },
  {
   "cell_type": "code",
   "execution_count": 4,
   "id": "2a1fd7bf-dfee-41bf-8d46-39ba39ce4269",
   "metadata": {},
   "outputs": [],
   "source": [
    "read_path = '/home/ramprasad.sa/factual_evaluation_source_based/datasets/scored/xformer_llm_annotated_scored_label_fewshot0.csv'\n",
    "# read_path = '/home/ramprasad.sa/factual_evaluation_source_based/datasets/scored/xformer_llm_annotated_scored_label.csv'\n",
    "df_scored = pd.read_csv(read_path)"
   ]
  },
  {
   "cell_type": "code",
   "execution_count": 7,
   "id": "344fe91d-4b88-477c-9e1c-6502415e2d43",
   "metadata": {},
   "outputs": [
    {
     "data": {
      "text/plain": [
       "{'No\\n', 'No output', 'Yes\\n', 'Yes.', 'yes\\n'}"
      ]
     },
     "execution_count": 7,
     "metadata": {},
     "output_type": "execute_result"
    }
   ],
   "source": [
    "set(df_scored['Alpaca-direct_assesment_response_fewshot'].values)"
   ]
  },
  {
   "cell_type": "code",
   "execution_count": 21,
   "id": "5525c7c0-e6ab-4620-a780-c705854e02b6",
   "metadata": {},
   "outputs": [],
   "source": [
    "import nltk\n",
    "import string\n",
    "def process_atomic_facts(afact):\n",
    "    sents = nltk.sent_tokenize(afact)\n",
    "    sents = [each for each in sents if not each.strip(string.punctuation).isdigit()]\n",
    "    print(sents)"
   ]
  },
  {
   "cell_type": "code",
   "execution_count": 22,
   "id": "047596bb-f2d2-4764-acb0-5f11d5c337f5",
   "metadata": {},
   "outputs": [
    {
     "name": "stdout",
     "output_type": "stream",
     "text": [
      "[\"Person1 asks if Person2's city is a historical place.\", 'Person2 responds that their city was a small insignificant village 200 years ago.', \"Person1 asks how Person2's city grew into a large place.\", 'Person2 explains that the village grew into an industrial centre due to the discovery of large coal deposits.', 'Person1 infers that the city must have absorbed many nearby villages as it grew.', 'Person2 confirms that the city absorbed many villages, and the names of these villages are now names of city parts.', 'Person1 asks if there are any buildings in the city that are more than 200 years old.', 'Person2 confirms that many of the buildings from the villages still exist, with many serving as pubs.', 'Person2 mentions that there is also a castle from an old village in the city.', \"Person1 affirms that Person2's city does indeed have some old history.\"]\n"
     ]
    }
   ],
   "source": [
    "process_atomic_facts(afacts)"
   ]
  },
  {
   "cell_type": "code",
   "execution_count": null,
   "id": "31674fa3-c134-4375-bc95-c3b8d7a8374b",
   "metadata": {},
   "outputs": [],
   "source": []
  }
 ],
 "metadata": {
  "kernelspec": {
   "display_name": "Factual Eval(Abridge)",
   "language": "python",
   "name": "myenv"
  },
  "language_info": {
   "codemirror_mode": {
    "name": "ipython",
    "version": 3
   },
   "file_extension": ".py",
   "mimetype": "text/x-python",
   "name": "python",
   "nbconvert_exporter": "python",
   "pygments_lexer": "ipython3",
   "version": "3.11.5"
  }
 },
 "nbformat": 4,
 "nbformat_minor": 5
}
