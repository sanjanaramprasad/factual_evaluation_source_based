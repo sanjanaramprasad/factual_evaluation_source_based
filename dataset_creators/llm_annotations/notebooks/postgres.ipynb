{
 "cells": [
  {
   "cell_type": "code",
   "execution_count": 2,
   "id": "1395667e-9b0f-4d4a-ad65-0a270079baf1",
   "metadata": {},
   "outputs": [
    {
     "data": {
      "text/plain": [
       "1550"
      ]
     },
     "execution_count": 2,
     "metadata": {},
     "output_type": "execute_result"
    }
   ],
   "source": [
    "import pandas as pd\n",
    "\n",
    "df_transformer = pd.read_csv('/home/sanjana/factual_evaluation_source_based/datasets/sota_annotations/dialogue_aggrefact.csv')\n",
    "\n",
    "len(df_transformer)"
   ]
  },
  {
   "cell_type": "code",
   "execution_count": 4,
   "id": "79113c16-38d9-45ac-aa17-ef18f2449537",
   "metadata": {},
   "outputs": [],
   "source": [
    "# df_ann_sample = pd.read_csv('"
   ]
  },
  {
   "cell_type": "code",
   "execution_count": 1,
   "id": "ef2e9fb5-db3c-4010-b3ba-865e38b0f972",
   "metadata": {},
   "outputs": [],
   "source": [
    "import psycopg2"
   ]
  },
  {
   "cell_type": "code",
   "execution_count": 3,
   "id": "ce57531c-976b-4545-862e-31718454f8bc",
   "metadata": {},
   "outputs": [],
   "source": [
    "conn = psycopg2.connect(\n",
    "   database=\"d9045km5q98asp\", \n",
    "    user='mobehzuqyhiegs', \n",
    "    password='7e168a4d00e94eed4c40785fee462c91ec836044c762db09c14c20d658ebf7a2', \n",
    "    host='ec2-44-215-40-87.compute-1.amazonaws.com', \n",
    "    port = '5432'\n",
    "    \n",
    ")"
   ]
  },
  {
   "cell_type": "code",
   "execution_count": 4,
   "id": "b31197b4-ff69-4488-b63c-6c4d469d0c31",
   "metadata": {},
   "outputs": [],
   "source": [
    "conn.autocommit = True\n",
    "\n",
    "# #Creating a cursor object using the cursor() method\n",
    "# cursor = conn.cursor()\n",
    "\n",
    "# #Preparing query to create a database\n",
    "# sql = '''CREATE database gpt4_summaries_short_qualifying''';\n",
    "\n",
    "# #Creating a database\n",
    "# cursor.execute(sql)\n",
    "# print(\"Database created successfully........\")\n",
    "\n",
    "# #Closing the connection\n",
    "# conn.close()"
   ]
  },
  {
   "cell_type": "code",
   "execution_count": 5,
   "id": "399a4442-8158-46e8-9325-7dd9157d748f",
   "metadata": {},
   "outputs": [
    {
     "name": "stdout",
     "output_type": "stream",
     "text": [
      "Table created successfully........\n"
     ]
    }
   ],
   "source": [
    "cursor = conn.cursor()\n",
    "\n",
    "sql_drop = '''DROP TABLE IF EXISTS generated_summaries;'''\n",
    "#Preparing query to create a database\n",
    "sql = '''CREATE TABLE generated_summaries (\n",
    "    uuid uuid DEFAULT gen_random_uuid() PRIMARY KEY, \n",
    "    docid TEXT NOT NULL ,\n",
    "    model TEXT NOT NULL, \n",
    "    summary TEXT NOT NULL, \n",
    "    dialogue TEXT\n",
    ");'''\n",
    "\n",
    "#Creating a database\n",
    "# cursor.execute(sql_drop)\n",
    "cursor.execute(sql)\n",
    "print(\"Table created successfully........\")\n",
    "conn.commit()"
   ]
  },
  {
   "cell_type": "code",
   "execution_count": 6,
   "id": "d58eb2c9-0cfa-4fc1-abc9-90eecf9d9879",
   "metadata": {},
   "outputs": [
    {
     "name": "stdout",
     "output_type": "stream",
     "text": [
      "Table created successfully........\n"
     ]
    }
   ],
   "source": [
    "sql_drop = '''DROP TABLE IF EXISTS label;'''\n",
    "\n",
    "create_table_label_str = '''CREATE TABLE label (\n",
    "    uuid uuid DEFAULT gen_random_uuid() PRIMARY KEY, \n",
    "    user_id TEXT NOT NULL,\n",
    "    docid TEXT NOT NULL,\n",
    "    model TEXT NOT NULL,\n",
    "    nonfactual_spans TEXT ,\n",
    "    evidence TEXT ,\n",
    "    error_type TEXT,\n",
    "    summary TEXT NOT NULL,\n",
    "    dialogue TEXT\n",
    ");'''\n",
    "\n",
    "# cursor.execute(sql_drop)\n",
    "cursor.execute(create_table_label_str)\n",
    "print(\"Table created successfully........\")\n",
    "conn.commit()"
   ]
  },
  {
   "cell_type": "code",
   "execution_count": 12,
   "id": "5615d29b-7b71-42e2-b131-259eeb625bd8",
   "metadata": {},
   "outputs": [
    {
     "ename": "FileNotFoundError",
     "evalue": "[Errno 2] No such file or directory: '/home/sanjana/factual_evaluation_source_based/datasets/llm_annotations/round2/alpaca13b_summaries_short.csv'",
     "output_type": "error",
     "traceback": [
      "\u001b[0;31m---------------------------------------------------------------------------\u001b[0m",
      "\u001b[0;31mFileNotFoundError\u001b[0m                         Traceback (most recent call last)",
      "Cell \u001b[0;32mIn[12], line 6\u001b[0m\n\u001b[1;32m      4\u001b[0m \u001b[38;5;28;01mimport\u001b[39;00m \u001b[38;5;21;01mpandas\u001b[39;00m \u001b[38;5;28;01mas\u001b[39;00m \u001b[38;5;21;01mpd\u001b[39;00m\n\u001b[1;32m      5\u001b[0m df_path \u001b[38;5;241m=\u001b[39m \u001b[38;5;124m'\u001b[39m\u001b[38;5;124m/home/sanjana/factual_evaluation_source_based/datasets/llm_annotations/round2/alpaca13b_summaries_short.csv\u001b[39m\u001b[38;5;124m'\u001b[39m\n\u001b[0;32m----> 6\u001b[0m df \u001b[38;5;241m=\u001b[39m \u001b[43mpd\u001b[49m\u001b[38;5;241;43m.\u001b[39;49m\u001b[43mread_csv\u001b[49m\u001b[43m(\u001b[49m\u001b[43mdf_path\u001b[49m\u001b[43m)\u001b[49m\n\u001b[1;32m      7\u001b[0m df\u001b[38;5;241m.\u001b[39mhead()\n",
      "File \u001b[0;32m/opt/conda/envs/eval_env/lib/python3.8/site-packages/pandas/io/parsers/readers.py:912\u001b[0m, in \u001b[0;36mread_csv\u001b[0;34m(filepath_or_buffer, sep, delimiter, header, names, index_col, usecols, dtype, engine, converters, true_values, false_values, skipinitialspace, skiprows, skipfooter, nrows, na_values, keep_default_na, na_filter, verbose, skip_blank_lines, parse_dates, infer_datetime_format, keep_date_col, date_parser, date_format, dayfirst, cache_dates, iterator, chunksize, compression, thousands, decimal, lineterminator, quotechar, quoting, doublequote, escapechar, comment, encoding, encoding_errors, dialect, on_bad_lines, delim_whitespace, low_memory, memory_map, float_precision, storage_options, dtype_backend)\u001b[0m\n\u001b[1;32m    899\u001b[0m kwds_defaults \u001b[38;5;241m=\u001b[39m _refine_defaults_read(\n\u001b[1;32m    900\u001b[0m     dialect,\n\u001b[1;32m    901\u001b[0m     delimiter,\n\u001b[0;32m   (...)\u001b[0m\n\u001b[1;32m    908\u001b[0m     dtype_backend\u001b[38;5;241m=\u001b[39mdtype_backend,\n\u001b[1;32m    909\u001b[0m )\n\u001b[1;32m    910\u001b[0m kwds\u001b[38;5;241m.\u001b[39mupdate(kwds_defaults)\n\u001b[0;32m--> 912\u001b[0m \u001b[38;5;28;01mreturn\u001b[39;00m \u001b[43m_read\u001b[49m\u001b[43m(\u001b[49m\u001b[43mfilepath_or_buffer\u001b[49m\u001b[43m,\u001b[49m\u001b[43m \u001b[49m\u001b[43mkwds\u001b[49m\u001b[43m)\u001b[49m\n",
      "File \u001b[0;32m/opt/conda/envs/eval_env/lib/python3.8/site-packages/pandas/io/parsers/readers.py:577\u001b[0m, in \u001b[0;36m_read\u001b[0;34m(filepath_or_buffer, kwds)\u001b[0m\n\u001b[1;32m    574\u001b[0m _validate_names(kwds\u001b[38;5;241m.\u001b[39mget(\u001b[38;5;124m\"\u001b[39m\u001b[38;5;124mnames\u001b[39m\u001b[38;5;124m\"\u001b[39m, \u001b[38;5;28;01mNone\u001b[39;00m))\n\u001b[1;32m    576\u001b[0m \u001b[38;5;66;03m# Create the parser.\u001b[39;00m\n\u001b[0;32m--> 577\u001b[0m parser \u001b[38;5;241m=\u001b[39m \u001b[43mTextFileReader\u001b[49m\u001b[43m(\u001b[49m\u001b[43mfilepath_or_buffer\u001b[49m\u001b[43m,\u001b[49m\u001b[43m \u001b[49m\u001b[38;5;241;43m*\u001b[39;49m\u001b[38;5;241;43m*\u001b[39;49m\u001b[43mkwds\u001b[49m\u001b[43m)\u001b[49m\n\u001b[1;32m    579\u001b[0m \u001b[38;5;28;01mif\u001b[39;00m chunksize \u001b[38;5;129;01mor\u001b[39;00m iterator:\n\u001b[1;32m    580\u001b[0m     \u001b[38;5;28;01mreturn\u001b[39;00m parser\n",
      "File \u001b[0;32m/opt/conda/envs/eval_env/lib/python3.8/site-packages/pandas/io/parsers/readers.py:1407\u001b[0m, in \u001b[0;36mTextFileReader.__init__\u001b[0;34m(self, f, engine, **kwds)\u001b[0m\n\u001b[1;32m   1404\u001b[0m     \u001b[38;5;28mself\u001b[39m\u001b[38;5;241m.\u001b[39moptions[\u001b[38;5;124m\"\u001b[39m\u001b[38;5;124mhas_index_names\u001b[39m\u001b[38;5;124m\"\u001b[39m] \u001b[38;5;241m=\u001b[39m kwds[\u001b[38;5;124m\"\u001b[39m\u001b[38;5;124mhas_index_names\u001b[39m\u001b[38;5;124m\"\u001b[39m]\n\u001b[1;32m   1406\u001b[0m \u001b[38;5;28mself\u001b[39m\u001b[38;5;241m.\u001b[39mhandles: IOHandles \u001b[38;5;241m|\u001b[39m \u001b[38;5;28;01mNone\u001b[39;00m \u001b[38;5;241m=\u001b[39m \u001b[38;5;28;01mNone\u001b[39;00m\n\u001b[0;32m-> 1407\u001b[0m \u001b[38;5;28mself\u001b[39m\u001b[38;5;241m.\u001b[39m_engine \u001b[38;5;241m=\u001b[39m \u001b[38;5;28;43mself\u001b[39;49m\u001b[38;5;241;43m.\u001b[39;49m\u001b[43m_make_engine\u001b[49m\u001b[43m(\u001b[49m\u001b[43mf\u001b[49m\u001b[43m,\u001b[49m\u001b[43m \u001b[49m\u001b[38;5;28;43mself\u001b[39;49m\u001b[38;5;241;43m.\u001b[39;49m\u001b[43mengine\u001b[49m\u001b[43m)\u001b[49m\n",
      "File \u001b[0;32m/opt/conda/envs/eval_env/lib/python3.8/site-packages/pandas/io/parsers/readers.py:1661\u001b[0m, in \u001b[0;36mTextFileReader._make_engine\u001b[0;34m(self, f, engine)\u001b[0m\n\u001b[1;32m   1659\u001b[0m     \u001b[38;5;28;01mif\u001b[39;00m \u001b[38;5;124m\"\u001b[39m\u001b[38;5;124mb\u001b[39m\u001b[38;5;124m\"\u001b[39m \u001b[38;5;129;01mnot\u001b[39;00m \u001b[38;5;129;01min\u001b[39;00m mode:\n\u001b[1;32m   1660\u001b[0m         mode \u001b[38;5;241m+\u001b[39m\u001b[38;5;241m=\u001b[39m \u001b[38;5;124m\"\u001b[39m\u001b[38;5;124mb\u001b[39m\u001b[38;5;124m\"\u001b[39m\n\u001b[0;32m-> 1661\u001b[0m \u001b[38;5;28mself\u001b[39m\u001b[38;5;241m.\u001b[39mhandles \u001b[38;5;241m=\u001b[39m \u001b[43mget_handle\u001b[49m\u001b[43m(\u001b[49m\n\u001b[1;32m   1662\u001b[0m \u001b[43m    \u001b[49m\u001b[43mf\u001b[49m\u001b[43m,\u001b[49m\n\u001b[1;32m   1663\u001b[0m \u001b[43m    \u001b[49m\u001b[43mmode\u001b[49m\u001b[43m,\u001b[49m\n\u001b[1;32m   1664\u001b[0m \u001b[43m    \u001b[49m\u001b[43mencoding\u001b[49m\u001b[38;5;241;43m=\u001b[39;49m\u001b[38;5;28;43mself\u001b[39;49m\u001b[38;5;241;43m.\u001b[39;49m\u001b[43moptions\u001b[49m\u001b[38;5;241;43m.\u001b[39;49m\u001b[43mget\u001b[49m\u001b[43m(\u001b[49m\u001b[38;5;124;43m\"\u001b[39;49m\u001b[38;5;124;43mencoding\u001b[39;49m\u001b[38;5;124;43m\"\u001b[39;49m\u001b[43m,\u001b[49m\u001b[43m \u001b[49m\u001b[38;5;28;43;01mNone\u001b[39;49;00m\u001b[43m)\u001b[49m\u001b[43m,\u001b[49m\n\u001b[1;32m   1665\u001b[0m \u001b[43m    \u001b[49m\u001b[43mcompression\u001b[49m\u001b[38;5;241;43m=\u001b[39;49m\u001b[38;5;28;43mself\u001b[39;49m\u001b[38;5;241;43m.\u001b[39;49m\u001b[43moptions\u001b[49m\u001b[38;5;241;43m.\u001b[39;49m\u001b[43mget\u001b[49m\u001b[43m(\u001b[49m\u001b[38;5;124;43m\"\u001b[39;49m\u001b[38;5;124;43mcompression\u001b[39;49m\u001b[38;5;124;43m\"\u001b[39;49m\u001b[43m,\u001b[49m\u001b[43m \u001b[49m\u001b[38;5;28;43;01mNone\u001b[39;49;00m\u001b[43m)\u001b[49m\u001b[43m,\u001b[49m\n\u001b[1;32m   1666\u001b[0m \u001b[43m    \u001b[49m\u001b[43mmemory_map\u001b[49m\u001b[38;5;241;43m=\u001b[39;49m\u001b[38;5;28;43mself\u001b[39;49m\u001b[38;5;241;43m.\u001b[39;49m\u001b[43moptions\u001b[49m\u001b[38;5;241;43m.\u001b[39;49m\u001b[43mget\u001b[49m\u001b[43m(\u001b[49m\u001b[38;5;124;43m\"\u001b[39;49m\u001b[38;5;124;43mmemory_map\u001b[39;49m\u001b[38;5;124;43m\"\u001b[39;49m\u001b[43m,\u001b[49m\u001b[43m \u001b[49m\u001b[38;5;28;43;01mFalse\u001b[39;49;00m\u001b[43m)\u001b[49m\u001b[43m,\u001b[49m\n\u001b[1;32m   1667\u001b[0m \u001b[43m    \u001b[49m\u001b[43mis_text\u001b[49m\u001b[38;5;241;43m=\u001b[39;49m\u001b[43mis_text\u001b[49m\u001b[43m,\u001b[49m\n\u001b[1;32m   1668\u001b[0m \u001b[43m    \u001b[49m\u001b[43merrors\u001b[49m\u001b[38;5;241;43m=\u001b[39;49m\u001b[38;5;28;43mself\u001b[39;49m\u001b[38;5;241;43m.\u001b[39;49m\u001b[43moptions\u001b[49m\u001b[38;5;241;43m.\u001b[39;49m\u001b[43mget\u001b[49m\u001b[43m(\u001b[49m\u001b[38;5;124;43m\"\u001b[39;49m\u001b[38;5;124;43mencoding_errors\u001b[39;49m\u001b[38;5;124;43m\"\u001b[39;49m\u001b[43m,\u001b[49m\u001b[43m \u001b[49m\u001b[38;5;124;43m\"\u001b[39;49m\u001b[38;5;124;43mstrict\u001b[39;49m\u001b[38;5;124;43m\"\u001b[39;49m\u001b[43m)\u001b[49m\u001b[43m,\u001b[49m\n\u001b[1;32m   1669\u001b[0m \u001b[43m    \u001b[49m\u001b[43mstorage_options\u001b[49m\u001b[38;5;241;43m=\u001b[39;49m\u001b[38;5;28;43mself\u001b[39;49m\u001b[38;5;241;43m.\u001b[39;49m\u001b[43moptions\u001b[49m\u001b[38;5;241;43m.\u001b[39;49m\u001b[43mget\u001b[49m\u001b[43m(\u001b[49m\u001b[38;5;124;43m\"\u001b[39;49m\u001b[38;5;124;43mstorage_options\u001b[39;49m\u001b[38;5;124;43m\"\u001b[39;49m\u001b[43m,\u001b[49m\u001b[43m \u001b[49m\u001b[38;5;28;43;01mNone\u001b[39;49;00m\u001b[43m)\u001b[49m\u001b[43m,\u001b[49m\n\u001b[1;32m   1670\u001b[0m \u001b[43m\u001b[49m\u001b[43m)\u001b[49m\n\u001b[1;32m   1671\u001b[0m \u001b[38;5;28;01massert\u001b[39;00m \u001b[38;5;28mself\u001b[39m\u001b[38;5;241m.\u001b[39mhandles \u001b[38;5;129;01mis\u001b[39;00m \u001b[38;5;129;01mnot\u001b[39;00m \u001b[38;5;28;01mNone\u001b[39;00m\n\u001b[1;32m   1672\u001b[0m f \u001b[38;5;241m=\u001b[39m \u001b[38;5;28mself\u001b[39m\u001b[38;5;241m.\u001b[39mhandles\u001b[38;5;241m.\u001b[39mhandle\n",
      "File \u001b[0;32m/opt/conda/envs/eval_env/lib/python3.8/site-packages/pandas/io/common.py:859\u001b[0m, in \u001b[0;36mget_handle\u001b[0;34m(path_or_buf, mode, encoding, compression, memory_map, is_text, errors, storage_options)\u001b[0m\n\u001b[1;32m    854\u001b[0m \u001b[38;5;28;01melif\u001b[39;00m \u001b[38;5;28misinstance\u001b[39m(handle, \u001b[38;5;28mstr\u001b[39m):\n\u001b[1;32m    855\u001b[0m     \u001b[38;5;66;03m# Check whether the filename is to be opened in binary mode.\u001b[39;00m\n\u001b[1;32m    856\u001b[0m     \u001b[38;5;66;03m# Binary mode does not support 'encoding' and 'newline'.\u001b[39;00m\n\u001b[1;32m    857\u001b[0m     \u001b[38;5;28;01mif\u001b[39;00m ioargs\u001b[38;5;241m.\u001b[39mencoding \u001b[38;5;129;01mand\u001b[39;00m \u001b[38;5;124m\"\u001b[39m\u001b[38;5;124mb\u001b[39m\u001b[38;5;124m\"\u001b[39m \u001b[38;5;129;01mnot\u001b[39;00m \u001b[38;5;129;01min\u001b[39;00m ioargs\u001b[38;5;241m.\u001b[39mmode:\n\u001b[1;32m    858\u001b[0m         \u001b[38;5;66;03m# Encoding\u001b[39;00m\n\u001b[0;32m--> 859\u001b[0m         handle \u001b[38;5;241m=\u001b[39m \u001b[38;5;28;43mopen\u001b[39;49m\u001b[43m(\u001b[49m\n\u001b[1;32m    860\u001b[0m \u001b[43m            \u001b[49m\u001b[43mhandle\u001b[49m\u001b[43m,\u001b[49m\n\u001b[1;32m    861\u001b[0m \u001b[43m            \u001b[49m\u001b[43mioargs\u001b[49m\u001b[38;5;241;43m.\u001b[39;49m\u001b[43mmode\u001b[49m\u001b[43m,\u001b[49m\n\u001b[1;32m    862\u001b[0m \u001b[43m            \u001b[49m\u001b[43mencoding\u001b[49m\u001b[38;5;241;43m=\u001b[39;49m\u001b[43mioargs\u001b[49m\u001b[38;5;241;43m.\u001b[39;49m\u001b[43mencoding\u001b[49m\u001b[43m,\u001b[49m\n\u001b[1;32m    863\u001b[0m \u001b[43m            \u001b[49m\u001b[43merrors\u001b[49m\u001b[38;5;241;43m=\u001b[39;49m\u001b[43merrors\u001b[49m\u001b[43m,\u001b[49m\n\u001b[1;32m    864\u001b[0m \u001b[43m            \u001b[49m\u001b[43mnewline\u001b[49m\u001b[38;5;241;43m=\u001b[39;49m\u001b[38;5;124;43m\"\u001b[39;49m\u001b[38;5;124;43m\"\u001b[39;49m\u001b[43m,\u001b[49m\n\u001b[1;32m    865\u001b[0m \u001b[43m        \u001b[49m\u001b[43m)\u001b[49m\n\u001b[1;32m    866\u001b[0m     \u001b[38;5;28;01melse\u001b[39;00m:\n\u001b[1;32m    867\u001b[0m         \u001b[38;5;66;03m# Binary mode\u001b[39;00m\n\u001b[1;32m    868\u001b[0m         handle \u001b[38;5;241m=\u001b[39m \u001b[38;5;28mopen\u001b[39m(handle, ioargs\u001b[38;5;241m.\u001b[39mmode)\n",
      "\u001b[0;31mFileNotFoundError\u001b[0m: [Errno 2] No such file or directory: '/home/sanjana/factual_evaluation_source_based/datasets/llm_annotations/round2/alpaca13b_summaries_short.csv'"
     ]
    }
   ],
   "source": [
    "# df_path = '/home/sanjana/explainable_factual_evaluation/datasets/short_dialogue/model_generated/gpt4_generated_summaries/RefMatters_DialogSum_test.csv'\n",
    "# df_path = '/home/sanjana/factual_evaluation_source_based/annotations/round1_aggrefact/gpt4_summaries_short.csv'\n",
    "# df_path = '/home/sanjana/factual_evaluation_source_based/annotations/sample/sample_annotations_sanjana.csv'\n",
    "import pandas as pd\n",
    "df_path = '/home/sanjana/factual_evaluation_source_based/datasets/llm_annotations/round2/alpaca13b_summaries_short.csv'\n",
    "df = pd.read_csv(df_path)\n",
    "df.head()"
   ]
  },
  {
   "cell_type": "code",
   "execution_count": 15,
   "id": "2395c64f-6798-4ad7-b3f3-f715d2beb5a2",
   "metadata": {},
   "outputs": [],
   "source": [
    "df = pd.read_csv(df_path)\n",
    "df_errors_intrinsic = df[df['error_type'] == 'Intrinsic_Error']\n",
    "df_errors_extrinsic = df[df['error_type'] == 'Extrinsic_Error']\n",
    "df_errors_noerrors = df[df['error_type'].isnull()]\n",
    "df_errors_intrinsic_sample = df_errors_intrinsic.sample(4)\n",
    "df_errors_extrinsic_sample = df_errors_extrinsic.sample(4)\n",
    "df_noerrors = df_errors_noerrors.sample(2)"
   ]
  },
  {
   "cell_type": "code",
   "execution_count": 16,
   "id": "00a2b281-df52-4cc9-8a98-5949d3ba3699",
   "metadata": {},
   "outputs": [
    {
     "data": {
      "text/html": [
       "<div>\n",
       "<style scoped>\n",
       "    .dataframe tbody tr th:only-of-type {\n",
       "        vertical-align: middle;\n",
       "    }\n",
       "\n",
       "    .dataframe tbody tr th {\n",
       "        vertical-align: top;\n",
       "    }\n",
       "\n",
       "    .dataframe thead th {\n",
       "        text-align: right;\n",
       "    }\n",
       "</style>\n",
       "<table border=\"1\" class=\"dataframe\">\n",
       "  <thead>\n",
       "    <tr style=\"text-align: right;\">\n",
       "      <th></th>\n",
       "      <th>Unnamed: 0</th>\n",
       "      <th>uuid</th>\n",
       "      <th>user_id</th>\n",
       "      <th>docid</th>\n",
       "      <th>model</th>\n",
       "      <th>nonfactual_spans</th>\n",
       "      <th>evidence</th>\n",
       "      <th>error_type</th>\n",
       "      <th>summary</th>\n",
       "      <th>dialogue</th>\n",
       "    </tr>\n",
       "  </thead>\n",
       "  <tbody>\n",
       "    <tr>\n",
       "      <th>167</th>\n",
       "      <td>204</td>\n",
       "      <td>4812007e-12f5-439d-b490-6dce79cec664</td>\n",
       "      <td>sanjana</td>\n",
       "      <td>13821297</td>\n",
       "      <td>gpt4-32k-0613</td>\n",
       "      <td>NaN</td>\n",
       "      <td>NaN</td>\n",
       "      <td>NaN</td>\n",
       "      <td>Ella asked her family to confirm their attenda...</td>\n",
       "      <td>Ella: Hey my dear family, could i ask you to c...</td>\n",
       "    </tr>\n",
       "    <tr>\n",
       "      <th>166</th>\n",
       "      <td>203</td>\n",
       "      <td>6d7363bb-1374-48da-9156-f06a609e8e58</td>\n",
       "      <td>sanjana</td>\n",
       "      <td>13821073</td>\n",
       "      <td>gpt4-32k-0613</td>\n",
       "      <td>a non-scary movie</td>\n",
       "      <td>Not found</td>\n",
       "      <td>Extrinsic_Error</td>\n",
       "      <td>After watching a Japanese horror movie late at...</td>\n",
       "      <td>Julie: hey guys... could you just talk to me f...</td>\n",
       "    </tr>\n",
       "    <tr>\n",
       "      <th>151</th>\n",
       "      <td>188</td>\n",
       "      <td>35ed364f-8b83-4ab3-8621-191c41707273</td>\n",
       "      <td>sanjana</td>\n",
       "      <td>13819314</td>\n",
       "      <td>gpt4-32k-0613</td>\n",
       "      <td>Marco invited Daniel to Bologna</td>\n",
       "      <td>Marco: : Are you coming to Bologna this fall?\\...</td>\n",
       "      <td>Intrinsic_Error</td>\n",
       "      <td>Marco invited Daniel to Bologna, but Daniel me...</td>\n",
       "      <td>Marco: Are you coming to Bologna this fall?\\r\\...</td>\n",
       "    </tr>\n",
       "    <tr>\n",
       "      <th>23</th>\n",
       "      <td>55</td>\n",
       "      <td>e56dfbf5-fbdc-432e-9e83-81c4f9ba81c4</td>\n",
       "      <td>sanjana</td>\n",
       "      <td>13716169</td>\n",
       "      <td>gpt4-32k-0613</td>\n",
       "      <td>NaN</td>\n",
       "      <td>NaN</td>\n",
       "      <td>NaN</td>\n",
       "      <td>Casey shared a photo of her nail art which she...</td>\n",
       "      <td>Casey: &lt;file_photo&gt;\\r\\nAmelia: these are so ni...</td>\n",
       "    </tr>\n",
       "    <tr>\n",
       "      <th>29</th>\n",
       "      <td>63</td>\n",
       "      <td>86b33373-2120-4cc8-80dc-66e3a247f481</td>\n",
       "      <td>sanjana</td>\n",
       "      <td>13716726</td>\n",
       "      <td>gpt4-32k-0613</td>\n",
       "      <td>Shanon, Victor, Oliver, and Sid, express their...</td>\n",
       "      <td>Shanon: : Yeah. So what bout him?\\nVictor: : H...</td>\n",
       "      <td>Intrinsic_Error</td>\n",
       "      <td>The group of students, Shanon, Victor, Oliver,...</td>\n",
       "      <td>Shanon: Yeah. So what bout him?\\r\\nVictor: He'...</td>\n",
       "    </tr>\n",
       "    <tr>\n",
       "      <th>127</th>\n",
       "      <td>164</td>\n",
       "      <td>20400429-e2fa-4299-8479-94fcc300bc71</td>\n",
       "      <td>sanjana</td>\n",
       "      <td>13813011</td>\n",
       "      <td>gpt4-32k-0613</td>\n",
       "      <td>actor Timothe Chalamet</td>\n",
       "      <td>Not found</td>\n",
       "      <td>Extrinsic_Error</td>\n",
       "      <td>Nova and Dominic are discussing an internet tr...</td>\n",
       "      <td>Nova: Do know that people are photoshoping Tim...</td>\n",
       "    </tr>\n",
       "    <tr>\n",
       "      <th>126</th>\n",
       "      <td>163</td>\n",
       "      <td>02d1ce3e-42c5-4cd9-8ab2-ce98fa376a23</td>\n",
       "      <td>sanjana</td>\n",
       "      <td>13810193</td>\n",
       "      <td>gpt4-32k-0613</td>\n",
       "      <td>Lindsay affirms that her child, Finlay</td>\n",
       "      <td>Not found</td>\n",
       "      <td>Extrinsic_Error</td>\n",
       "      <td>Amelia thanks Lindsay for attending her child ...</td>\n",
       "      <td>Amelia: Just wanted to say again, thank you so...</td>\n",
       "    </tr>\n",
       "    <tr>\n",
       "      <th>49</th>\n",
       "      <td>85</td>\n",
       "      <td>3fdfb2e5-cd52-4fbc-b022-e201cbf71edf</td>\n",
       "      <td>ann_epbi</td>\n",
       "      <td>13611734</td>\n",
       "      <td>gpt4-32k-0613</td>\n",
       "      <td>soccer player named Pogba</td>\n",
       "      <td>Not found</td>\n",
       "      <td>Extrinsic_Error</td>\n",
       "      <td>Richie and Clay are discussing the performance...</td>\n",
       "      <td>Richie: Pogba\\r\\nClay: Pogboom\\r\\nRichie: what...</td>\n",
       "    </tr>\n",
       "    <tr>\n",
       "      <th>35</th>\n",
       "      <td>70</td>\n",
       "      <td>8bcab26d-78e0-46ae-89dd-3c4a7ac52039</td>\n",
       "      <td>sanjana</td>\n",
       "      <td>13716905</td>\n",
       "      <td>gpt4-32k-0613</td>\n",
       "      <td>family photo taken during a cousin's wedding</td>\n",
       "      <td>Chiara: : It's us in Chicago 2 weeks ago.\\nLuc...</td>\n",
       "      <td>Intrinsic_Error</td>\n",
       "      <td>Yvonne and Chiara, two nieces, inquire about t...</td>\n",
       "      <td>Yvonne: How''s uncle Sam?\\r\\nLucy: He''s OK, j...</td>\n",
       "    </tr>\n",
       "    <tr>\n",
       "      <th>165</th>\n",
       "      <td>202</td>\n",
       "      <td>211dbc63-48ba-4bf3-9427-9b8bbb438466</td>\n",
       "      <td>sanjana</td>\n",
       "      <td>13821034</td>\n",
       "      <td>gpt4-32k-0613</td>\n",
       "      <td>Edward is anxious about the meetings with clients</td>\n",
       "      <td>Edward: : You think its gonna be just a few me...</td>\n",
       "      <td>Intrinsic_Error</td>\n",
       "      <td>Edward, Lauren, and Kate are expressing their ...</td>\n",
       "      <td>Edward: I dont wanna go on that business trip ...</td>\n",
       "    </tr>\n",
       "  </tbody>\n",
       "</table>\n",
       "</div>"
      ],
      "text/plain": [
       "     Unnamed: 0                                  uuid   user_id     docid  \\\n",
       "167         204  4812007e-12f5-439d-b490-6dce79cec664   sanjana  13821297   \n",
       "166         203  6d7363bb-1374-48da-9156-f06a609e8e58   sanjana  13821073   \n",
       "151         188  35ed364f-8b83-4ab3-8621-191c41707273   sanjana  13819314   \n",
       "23           55  e56dfbf5-fbdc-432e-9e83-81c4f9ba81c4   sanjana  13716169   \n",
       "29           63  86b33373-2120-4cc8-80dc-66e3a247f481   sanjana  13716726   \n",
       "127         164  20400429-e2fa-4299-8479-94fcc300bc71   sanjana  13813011   \n",
       "126         163  02d1ce3e-42c5-4cd9-8ab2-ce98fa376a23   sanjana  13810193   \n",
       "49           85  3fdfb2e5-cd52-4fbc-b022-e201cbf71edf  ann_epbi  13611734   \n",
       "35           70  8bcab26d-78e0-46ae-89dd-3c4a7ac52039   sanjana  13716905   \n",
       "165         202  211dbc63-48ba-4bf3-9427-9b8bbb438466   sanjana  13821034   \n",
       "\n",
       "             model                                   nonfactual_spans  \\\n",
       "167  gpt4-32k-0613                                                NaN   \n",
       "166  gpt4-32k-0613                                  a non-scary movie   \n",
       "151  gpt4-32k-0613                    Marco invited Daniel to Bologna   \n",
       "23   gpt4-32k-0613                                                NaN   \n",
       "29   gpt4-32k-0613  Shanon, Victor, Oliver, and Sid, express their...   \n",
       "127  gpt4-32k-0613                             actor Timothe Chalamet   \n",
       "126  gpt4-32k-0613             Lindsay affirms that her child, Finlay   \n",
       "49   gpt4-32k-0613                          soccer player named Pogba   \n",
       "35   gpt4-32k-0613       family photo taken during a cousin's wedding   \n",
       "165  gpt4-32k-0613  Edward is anxious about the meetings with clients   \n",
       "\n",
       "                                              evidence       error_type  \\\n",
       "167                                                NaN              NaN   \n",
       "166                                          Not found  Extrinsic_Error   \n",
       "151  Marco: : Are you coming to Bologna this fall?\\...  Intrinsic_Error   \n",
       "23                                                 NaN              NaN   \n",
       "29   Shanon: : Yeah. So what bout him?\\nVictor: : H...  Intrinsic_Error   \n",
       "127                                          Not found  Extrinsic_Error   \n",
       "126                                          Not found  Extrinsic_Error   \n",
       "49                                           Not found  Extrinsic_Error   \n",
       "35   Chiara: : It's us in Chicago 2 weeks ago.\\nLuc...  Intrinsic_Error   \n",
       "165  Edward: : You think its gonna be just a few me...  Intrinsic_Error   \n",
       "\n",
       "                                               summary  \\\n",
       "167  Ella asked her family to confirm their attenda...   \n",
       "166  After watching a Japanese horror movie late at...   \n",
       "151  Marco invited Daniel to Bologna, but Daniel me...   \n",
       "23   Casey shared a photo of her nail art which she...   \n",
       "29   The group of students, Shanon, Victor, Oliver,...   \n",
       "127  Nova and Dominic are discussing an internet tr...   \n",
       "126  Amelia thanks Lindsay for attending her child ...   \n",
       "49   Richie and Clay are discussing the performance...   \n",
       "35   Yvonne and Chiara, two nieces, inquire about t...   \n",
       "165  Edward, Lauren, and Kate are expressing their ...   \n",
       "\n",
       "                                              dialogue  \n",
       "167  Ella: Hey my dear family, could i ask you to c...  \n",
       "166  Julie: hey guys... could you just talk to me f...  \n",
       "151  Marco: Are you coming to Bologna this fall?\\r\\...  \n",
       "23   Casey: <file_photo>\\r\\nAmelia: these are so ni...  \n",
       "29   Shanon: Yeah. So what bout him?\\r\\nVictor: He'...  \n",
       "127  Nova: Do know that people are photoshoping Tim...  \n",
       "126  Amelia: Just wanted to say again, thank you so...  \n",
       "49   Richie: Pogba\\r\\nClay: Pogboom\\r\\nRichie: what...  \n",
       "35   Yvonne: How''s uncle Sam?\\r\\nLucy: He''s OK, j...  \n",
       "165  Edward: I dont wanna go on that business trip ...  "
      ]
     },
     "execution_count": 16,
     "metadata": {},
     "output_type": "execute_result"
    }
   ],
   "source": [
    "from random import shuffle\n",
    "df_sample = pd.concat([df_errors_intrinsic_sample, df_errors_extrinsic_sample, df_noerrors])\n",
    "# shuffle(df_sample)\n",
    "df_sample = df_sample.sample(frac = 1)\n",
    "df_sample"
   ]
  },
  {
   "cell_type": "code",
   "execution_count": 30,
   "id": "af093e9d-18fb-4cdb-9c2a-d7c957fa25ab",
   "metadata": {
    "scrolled": true
   },
   "outputs": [
    {
     "name": "stdout",
     "output_type": "stream",
     "text": [
      "172\n",
      "Size before adding 0\n"
     ]
    }
   ],
   "source": [
    "import pandas as pd \n",
    "import re\n",
    "# df = pd.read_csv(df_path)\n",
    "print(len(df))\n",
    "cursor.execute(\"\"\"SELECT * from generated_summaries\"\"\")\n",
    "print('Size before adding' , len(cursor.fetchall()))\n",
    "for idx, row in df_sample.iterrows():\n",
    "    # print(row)\n",
    "    docid = row['docid']\n",
    "    dialogue = row['dialogue']\n",
    "    model = row['model']\n",
    "    # origin = row['origin']\n",
    "    origin = 'sample'\n",
    "    summary = row['summary']\n",
    "    if 'summary' in df_sample.keys(): \n",
    "        # and row['DocID'] in filter_ids:\n",
    "        generic_summary = row['summary']\n",
    "        summary_uuid_generic = f'{docid}_{model}_gen'\n",
    "        summary = re.sub( \"'\", r\"''\", summary)\n",
    "        dialogue = re.sub( \"'\", r\"''\", dialogue)\n",
    "        value_str = f\"\"\"'{docid}', '{model}', '{summary}', '{dialogue}'\"\"\"\n",
    "        # print(re.findall(r\"\\'(\\w+)\\'\", dialogue))\n",
    "        cursor.execute(f\"\"\"INSERT INTO generated_summaries(docid, model, summary, dialogue) VALUES ({value_str})\"\"\",\n",
    "                                                        )\n",
    "        \n",
    "\n",
    "# conn.close()"
   ]
  },
  {
   "cell_type": "code",
   "execution_count": 31,
   "id": "1c2543e3-cb5b-401c-948b-ffa8b757f7f5",
   "metadata": {},
   "outputs": [],
   "source": [
    "cursor.execute('''SELECT * from generated_summaries''')\n",
    "result = cursor.fetchall();\n",
    "result\n",
    "conn.commit()"
   ]
  },
  {
   "cell_type": "code",
   "execution_count": 33,
   "id": "1fbfd32d-ce15-49e0-99b7-48d3512834da",
   "metadata": {},
   "outputs": [
    {
     "data": {
      "text/plain": [
       "10"
      ]
     },
     "execution_count": 33,
     "metadata": {},
     "output_type": "execute_result"
    }
   ],
   "source": [
    "len(result)"
   ]
  },
  {
   "cell_type": "code",
   "execution_count": null,
   "id": "2da9de96-de93-41d3-a6a8-2420a61b40f3",
   "metadata": {},
   "outputs": [],
   "source": []
  }
 ],
 "metadata": {
  "kernelspec": {
   "display_name": "Python (eval_env)",
   "language": "python",
   "name": "eval_env"
  },
  "language_info": {
   "codemirror_mode": {
    "name": "ipython",
    "version": 3
   },
   "file_extension": ".py",
   "mimetype": "text/x-python",
   "name": "python",
   "nbconvert_exporter": "python",
   "pygments_lexer": "ipython3",
   "version": "3.8.13"
  }
 },
 "nbformat": 4,
 "nbformat_minor": 5
}
