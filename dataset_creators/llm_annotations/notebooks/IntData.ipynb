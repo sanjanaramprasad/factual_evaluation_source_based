{
 "cells": [
  {
   "cell_type": "code",
   "execution_count": 1,
   "id": "0d23faaf-4158-4d1e-aa7c-78253ccf49f2",
   "metadata": {},
   "outputs": [],
   "source": [
    "import pandas as pd"
   ]
  },
  {
   "cell_type": "code",
   "execution_count": 5,
   "id": "2f9cbfbc-ea77-40ab-a1c1-d780cf25a56f",
   "metadata": {},
   "outputs": [
    {
     "data": {
      "text/html": [
       "<div>\n",
       "<style scoped>\n",
       "    .dataframe tbody tr th:only-of-type {\n",
       "        vertical-align: middle;\n",
       "    }\n",
       "\n",
       "    .dataframe tbody tr th {\n",
       "        vertical-align: top;\n",
       "    }\n",
       "\n",
       "    .dataframe thead th {\n",
       "        text-align: right;\n",
       "    }\n",
       "</style>\n",
       "<table border=\"1\" class=\"dataframe\">\n",
       "  <thead>\n",
       "    <tr style=\"text-align: right;\">\n",
       "      <th></th>\n",
       "      <th>Unnamed: 0</th>\n",
       "      <th>uuid</th>\n",
       "      <th>user_id</th>\n",
       "      <th>docid</th>\n",
       "      <th>model</th>\n",
       "      <th>nonfactual_spans</th>\n",
       "      <th>evidence</th>\n",
       "      <th>error_type</th>\n",
       "      <th>summary</th>\n",
       "      <th>dialogue</th>\n",
       "    </tr>\n",
       "  </thead>\n",
       "  <tbody>\n",
       "    <tr>\n",
       "      <th>6</th>\n",
       "      <td>6</td>\n",
       "      <td>660f2253-fa69-4881-9666-6a0d69ef9a2c</td>\n",
       "      <td>ann_wjbp</td>\n",
       "      <td>13611370</td>\n",
       "      <td>gpt4-32k-0613</td>\n",
       "      <td>NaN</td>\n",
       "      <td>NaN</td>\n",
       "      <td>NaN</td>\n",
       "      <td>Derek asks Judy if she can feed his animals on...</td>\n",
       "      <td>Derek: Judy, r you leaving for the weekend?\\r\\...</td>\n",
       "    </tr>\n",
       "  </tbody>\n",
       "</table>\n",
       "</div>"
      ],
      "text/plain": [
       "   Unnamed: 0                                  uuid   user_id     docid  \\\n",
       "6           6  660f2253-fa69-4881-9666-6a0d69ef9a2c  ann_wjbp  13611370   \n",
       "\n",
       "           model nonfactual_spans evidence error_type  \\\n",
       "6  gpt4-32k-0613              NaN      NaN        NaN   \n",
       "\n",
       "                                             summary  \\\n",
       "6  Derek asks Judy if she can feed his animals on...   \n",
       "\n",
       "                                            dialogue  \n",
       "6  Derek: Judy, r you leaving for the weekend?\\r\\...  "
      ]
     },
     "execution_count": 5,
     "metadata": {},
     "output_type": "execute_result"
    }
   ],
   "source": [
    "df_llm_gpt = pd.read_csv('/home/ramprasad.sa/factual_evaluation_source_based/annotations/round1_aggredial_llm_annotated/first_annotator_gpt/db_dump_latest.csv')\n",
    "df_llm_gpt = df_llm_gpt[df_llm_gpt['user_id'] == 'ann_wjbp']\n",
    "# df_llm_gpt = df_llm_gpt.drop_duplicates(subset=['user_id', 'docid', 'model', 'nonfactual_spans', 'evidence', 'error_type', 'summary'], keep='last')\n",
    "df_llm_gpt.head()[:1]"
   ]
  },
  {
   "cell_type": "code",
   "execution_count": 10,
   "id": "3564d416-2718-411c-b8dc-b60bb4e006fe",
   "metadata": {},
   "outputs": [],
   "source": [
    "import json\n",
    "\n",
    "'''\n",
    "displayTitle = title.replaceAll('&', '&amp;').replaceAll('<', '&lt;').\n",
    "replaceAll('>', '&gt;').replaceAll(\"'\", '&#39;').replaceAll('\"', '&quot;');\n",
    "'''\n",
    "\n",
    "def process_data(txt):\n",
    "    if type(txt) is str:\n",
    "        txt = txt.replace('&', '&amp;')\n",
    "        txt = txt.replace('<', '&lt;')\n",
    "        txt = txt.replace('>', '&gt;')\n",
    "        txt = txt.replace(\"'\", '&#39;')\n",
    "        txt = txt.replace('\"', '&quot;')\n",
    "    else:\n",
    "        txt = 'None'\n",
    "    return txt\n",
    "\n",
    "all_data = []\n",
    "for idx, row in df_llm_gpt.iterrows():\n",
    "    context = row['dialogue']\n",
    "    summary = row['summary']\n",
    "\n",
    "    # target = []\n",
    "    nonfactual_spans = process_data(row['nonfactual_spans'])\n",
    "    # nonfactual_spans = nonfactual_spans if type(nonfactual_spans) is str else 'None'\n",
    "\n",
    "    evidence = process_data(row['evidence'])\n",
    "    # evidence = evidence if type(evidence) is str else 'None'\n",
    "\n",
    "    error_type = row['error_type']\n",
    "    error_type = error_type if type(error_type) is str else 'None'\n",
    "\n",
    "    target = f'ERROR SPAN: {nonfactual_spans}\\nERROR TYPE: {error_type}\\nEVIDENCE: {evidence}'\n",
    "    if nonfactual_spans != 'None':\n",
    "        data_dict = {\n",
    "            'context': context,\n",
    "            'source': summary,\n",
    "            'target': target\n",
    "        }\n",
    "        all_data.append(json.dumps(data_dict, indent=4))\n",
    "    \n",
    "    # target = \"\\n\".join([row['])"
   ]
  },
  {
   "cell_type": "code",
   "execution_count": 11,
   "id": "af314891-ad78-419a-8703-ba420527e2a0",
   "metadata": {},
   "outputs": [],
   "source": [
    "with open('/home/ramprasad.sa/factual_evaluation_source_based/datasets/llm_annotations/round1/interface_categories/round1_emily_gpt4_short.txt', 'w') as f:\n",
    "    for line in all_data:\n",
    "        f.write(\"%s,\\n\" % line)"
   ]
  },
  {
   "cell_type": "code",
   "execution_count": null,
   "id": "5bf141ae-162a-46f2-ba0b-6c5adf3430c3",
   "metadata": {},
   "outputs": [],
   "source": []
  }
 ],
 "metadata": {
  "kernelspec": {
   "display_name": "Factual Eval(Abridge)",
   "language": "python",
   "name": "myenv"
  },
  "language_info": {
   "codemirror_mode": {
    "name": "ipython",
    "version": 3
   },
   "file_extension": ".py",
   "mimetype": "text/x-python",
   "name": "python",
   "nbconvert_exporter": "python",
   "pygments_lexer": "ipython3",
   "version": "3.11.5"
  }
 },
 "nbformat": 4,
 "nbformat_minor": 5
}
