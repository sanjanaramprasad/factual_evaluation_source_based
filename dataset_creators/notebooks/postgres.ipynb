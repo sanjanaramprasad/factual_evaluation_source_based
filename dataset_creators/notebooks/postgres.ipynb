{
 "cells": [
  {
   "cell_type": "code",
   "execution_count": 17,
   "id": "1395667e-9b0f-4d4a-ad65-0a270079baf1",
   "metadata": {},
   "outputs": [
    {
     "data": {
      "text/plain": [
       "1550"
      ]
     },
     "execution_count": 17,
     "metadata": {},
     "output_type": "execute_result"
    }
   ],
   "source": [
    "import pandas as pd\n",
    "\n",
    "df_transformer = pd.read_csv('/home/sanjana/factual_evaluation_source_based/datasets/sota_annotations/dialogue_aggrefact.csv')\n",
    "\n",
    "len(df_transformer)"
   ]
  },
  {
   "cell_type": "code",
   "execution_count": 18,
   "id": "79113c16-38d9-45ac-aa17-ef18f2449537",
   "metadata": {},
   "outputs": [
    {
     "data": {
      "text/html": [
       "<div>\n",
       "<style scoped>\n",
       "    .dataframe tbody tr th:only-of-type {\n",
       "        vertical-align: middle;\n",
       "    }\n",
       "\n",
       "    .dataframe tbody tr th {\n",
       "        vertical-align: top;\n",
       "    }\n",
       "\n",
       "    .dataframe thead th {\n",
       "        text-align: right;\n",
       "    }\n",
       "</style>\n",
       "<table border=\"1\" class=\"dataframe\">\n",
       "  <thead>\n",
       "    <tr style=\"text-align: right;\">\n",
       "      <th></th>\n",
       "      <th>Unnamed: 0</th>\n",
       "      <th>DocID</th>\n",
       "      <th>Dialogue</th>\n",
       "      <th>Model</th>\n",
       "      <th>Summary</th>\n",
       "      <th>w/ Error</th>\n",
       "      <th>CorefE</th>\n",
       "      <th>CorefE_text</th>\n",
       "      <th>CircE</th>\n",
       "      <th>CircE_text</th>\n",
       "      <th>...</th>\n",
       "      <th>GramE_text</th>\n",
       "      <th>PredE</th>\n",
       "      <th>PredE_text</th>\n",
       "      <th>SubjObjE</th>\n",
       "      <th>SubjObjE_text</th>\n",
       "      <th>OtherE</th>\n",
       "      <th>OtherE_text</th>\n",
       "      <th>LinkE</th>\n",
       "      <th>LinkE_text</th>\n",
       "      <th>origin</th>\n",
       "    </tr>\n",
       "  </thead>\n",
       "  <tbody>\n",
       "    <tr>\n",
       "      <th>0</th>\n",
       "      <td>0</td>\n",
       "      <td>13809941</td>\n",
       "      <td>Thelma: i dont have anything to wear\\nLouisa: ...</td>\n",
       "      <td>human_ref</td>\n",
       "      <td>Louisa will lend Thelma her red velvet dress.</td>\n",
       "      <td>0</td>\n",
       "      <td>NaN</td>\n",
       "      <td>NaN</td>\n",
       "      <td>NaN</td>\n",
       "      <td>NaN</td>\n",
       "      <td>...</td>\n",
       "      <td>NaN</td>\n",
       "      <td>NaN</td>\n",
       "      <td>NaN</td>\n",
       "      <td>NaN</td>\n",
       "      <td>NaN</td>\n",
       "      <td>0.0</td>\n",
       "      <td>NaN</td>\n",
       "      <td>NaN</td>\n",
       "      <td>NaN</td>\n",
       "      <td>FacEval</td>\n",
       "    </tr>\n",
       "  </tbody>\n",
       "</table>\n",
       "<p>1 rows × 23 columns</p>\n",
       "</div>"
      ],
      "text/plain": [
       "   Unnamed: 0     DocID                                           Dialogue  \\\n",
       "0           0  13809941  Thelma: i dont have anything to wear\\nLouisa: ...   \n",
       "\n",
       "       Model                                        Summary  w/ Error  CorefE  \\\n",
       "0  human_ref  Louisa will lend Thelma her red velvet dress.         0     NaN   \n",
       "\n",
       "  CorefE_text  CircE CircE_text  ...  GramE_text PredE  PredE_text SubjObjE  \\\n",
       "0         NaN    NaN        NaN  ...         NaN   NaN         NaN      NaN   \n",
       "\n",
       "   SubjObjE_text OtherE  OtherE_text LinkE  LinkE_text   origin  \n",
       "0            NaN    0.0          NaN   NaN         NaN  FacEval  \n",
       "\n",
       "[1 rows x 23 columns]"
      ]
     },
     "execution_count": 18,
     "metadata": {},
     "output_type": "execute_result"
    }
   ],
   "source": [
    "df_transformer.head()[:1]"
   ]
  },
  {
   "cell_type": "code",
   "execution_count": 62,
   "id": "ef2e9fb5-db3c-4010-b3ba-865e38b0f972",
   "metadata": {},
   "outputs": [],
   "source": [
    "import psycopg2"
   ]
  },
  {
   "cell_type": "code",
   "execution_count": 63,
   "id": "ce57531c-976b-4545-862e-31718454f8bc",
   "metadata": {},
   "outputs": [],
   "source": [
    "conn = psycopg2.connect(\n",
    "   database=\"d3mhp3r7jhume9\", \n",
    "    user='sgqokpuggkrkve', \n",
    "    password='ff59f8ca03f950cef2e98fb4ae4ff44bdf7136ff37da62215672902c613297d6', \n",
    "    host='ec2-18-211-172-50.compute-1.amazonaws.com', \n",
    "    port = '5432'\n",
    "    \n",
    ")"
   ]
  },
  {
   "cell_type": "code",
   "execution_count": 64,
   "id": "b31197b4-ff69-4488-b63c-6c4d469d0c31",
   "metadata": {},
   "outputs": [],
   "source": [
    "conn.autocommit = True\n",
    "\n",
    "# #Creating a cursor object using the cursor() method\n",
    "# cursor = conn.cursor()\n",
    "\n",
    "# #Preparing query to create a database\n",
    "# sql = '''CREATE database gpt4_summaries_short_qualifying''';\n",
    "\n",
    "# #Creating a database\n",
    "# cursor.execute(sql)\n",
    "# print(\"Database created successfully........\")\n",
    "\n",
    "# #Closing the connection\n",
    "# conn.close()"
   ]
  },
  {
   "cell_type": "code",
   "execution_count": 65,
   "id": "399a4442-8158-46e8-9325-7dd9157d748f",
   "metadata": {},
   "outputs": [
    {
     "name": "stdout",
     "output_type": "stream",
     "text": [
      "Table created successfully........\n"
     ]
    }
   ],
   "source": [
    "cursor = conn.cursor()\n",
    "\n",
    "sql_drop = '''DROP TABLE IF EXISTS generated_summaries;'''\n",
    "#Preparing query to create a database\n",
    "sql = '''CREATE TABLE generated_summaries (\n",
    "    uuid uuid DEFAULT gen_random_uuid() PRIMARY KEY, \n",
    "    docid TEXT NOT NULL ,\n",
    "    model TEXT NOT NULL, \n",
    "    summary TEXT NOT NULL, \n",
    "    dialogue TEXT\n",
    ");'''\n",
    "\n",
    "#Creating a database\n",
    "cursor.execute(sql_drop)\n",
    "cursor.execute(sql)\n",
    "print(\"Table created successfully........\")\n",
    "conn.commit()"
   ]
  },
  {
   "cell_type": "code",
   "execution_count": 66,
   "id": "d58eb2c9-0cfa-4fc1-abc9-90eecf9d9879",
   "metadata": {},
   "outputs": [
    {
     "name": "stdout",
     "output_type": "stream",
     "text": [
      "Table created successfully........\n"
     ]
    }
   ],
   "source": [
    "sql_drop = '''DROP TABLE IF EXISTS label;'''\n",
    "\n",
    "create_table_label_str = '''CREATE TABLE label (\n",
    "    uuid uuid DEFAULT gen_random_uuid() PRIMARY KEY, \n",
    "    user_id TEXT NOT NULL,\n",
    "    docid TEXT NOT NULL,\n",
    "    model TEXT NOT NULL,\n",
    "    nonfactual_spans TEXT ,\n",
    "    evidence TEXT ,\n",
    "    error_type TEXT,\n",
    "    summary TEXT NOT NULL,\n",
    "    dialogue TEXT\n",
    ");'''\n",
    "\n",
    "cursor.execute(sql_drop)\n",
    "cursor.execute(create_table_label_str)\n",
    "print(\"Table created successfully........\")\n",
    "conn.commit()"
   ]
  },
  {
   "cell_type": "code",
   "execution_count": 67,
   "id": "5615d29b-7b71-42e2-b131-259eeb625bd8",
   "metadata": {},
   "outputs": [],
   "source": [
    "# df_path = '/home/sanjana/explainable_factual_evaluation/datasets/short_dialogue/model_generated/gpt4_generated_summaries/RefMatters_DialogSum_test.csv'\n",
    "df_path = '/home/sanjana/factual_evaluation_source_based/annotations/round1_aggrefact/gpt4_summaries_short.csv'\n",
    "# df_path = '/home/sanjana/factual_evaluation_source_based/annotations/sample/sample_annotations_sanjana.csv'\n",
    "\n"
   ]
  },
  {
   "cell_type": "code",
   "execution_count": 68,
   "id": "2395c64f-6798-4ad7-b3f3-f715d2beb5a2",
   "metadata": {},
   "outputs": [],
   "source": [
    "df = pd.read_csv(df_path)\n",
    "# df_errors_intrinsic = df[df['error_type'] == 'Intrinsic_Error']\n",
    "# df_errors_intrinsic_sample = df_errors_intrinsic.sample(4)\n",
    "# df_errors_intrinsic_sample"
   ]
  },
  {
   "cell_type": "code",
   "execution_count": 69,
   "id": "00a2b281-df52-4cc9-8a98-5949d3ba3699",
   "metadata": {},
   "outputs": [],
   "source": [
    "# from random import shuffle\n",
    "# df_sample = pd.concat([df_errors_intrinsic_sample, df_errors_extrinsic_sample, df_noerrors])\n",
    "# # shuffle(df_sample)\n",
    "# df_sample = df_sample.sample(frac = 1)\n",
    "# df_sample"
   ]
  },
  {
   "cell_type": "code",
   "execution_count": 70,
   "id": "af093e9d-18fb-4cdb-9c2a-d7c957fa25ab",
   "metadata": {
    "scrolled": true
   },
   "outputs": [
    {
     "name": "stdout",
     "output_type": "stream",
     "text": [
      "325\n",
      "Size before adding 0\n"
     ]
    }
   ],
   "source": [
    "import pandas as pd \n",
    "import re\n",
    "# df = pd.read_csv(df_path)\n",
    "print(len(df))\n",
    "cursor.execute(\"\"\"SELECT * from generated_summaries\"\"\")\n",
    "print('Size before adding' , len(cursor.fetchall()))\n",
    "for idx, row in df.iterrows():\n",
    "    # print(row)\n",
    "    docid = row['DocID']\n",
    "    dialogue = row['Dialogue']\n",
    "    model = row['Model']\n",
    "    origin = row['origin']\n",
    "    # origin = 'sample'\n",
    "    summary = row['Summary']\n",
    "    if 'Summary' in df.keys(): \n",
    "        # and row['DocID'] in filter_ids:\n",
    "        generic_summary = row['Summary']\n",
    "        summary_uuid_generic = f'{docid}_{model}_gen'\n",
    "        summary = re.sub( \"'\", r\"''\", summary)\n",
    "        dialogue = re.sub( \"'\", r\"''\", dialogue)\n",
    "        value_str = f\"\"\"'{docid}', '{model}', '{summary}', '{dialogue}'\"\"\"\n",
    "        # print(re.findall(r\"\\'(\\w+)\\'\", dialogue))\n",
    "        cursor.execute(f\"\"\"INSERT INTO generated_summaries(docid, model, summary, dialogue) VALUES ({value_str})\"\"\",\n",
    "                                                        )\n",
    "        \n",
    "\n",
    "# conn.close()"
   ]
  },
  {
   "cell_type": "code",
   "execution_count": 73,
   "id": "1c2543e3-cb5b-401c-948b-ffa8b757f7f5",
   "metadata": {},
   "outputs": [],
   "source": [
    "cursor.execute('''SELECT * from label''')\n",
    "result = cursor.fetchall();\n",
    "result\n",
    "conn.commit()"
   ]
  },
  {
   "cell_type": "code",
   "execution_count": 74,
   "id": "1fbfd32d-ce15-49e0-99b7-48d3512834da",
   "metadata": {},
   "outputs": [
    {
     "data": {
      "text/plain": [
       "[('b6273d21-9a0c-4033-8e2b-908d0a98c143',\n",
       "  'sanjana',\n",
       "  '13611370',\n",
       "  'gpt4-32k-0613',\n",
       "  None,\n",
       "  None,\n",
       "  None,\n",
       "  \"Derek asks Judy if she can feed his animals on Friday and Saturday as she isn''t leaving for the weekend. She agrees and Derek plans to give her his keys on Thursday. He also promises to provide her with more details later.\",\n",
       "  'Derek: Judy, r you leaving for the weekend?\\r\\nJudy: Nah\\r\\nDerek: So can you feed my animals on Friday and Saturday?\\r\\nJudy: sure, no problem\\r\\nDerek: Thank you :) Maybe on Thursday I would give you my keys?\\r\\nJudy: Ok\\r\\nDerek: Thanks :) Later I will tell you the details :)\\r\\nJudy: surely')]"
      ]
     },
     "execution_count": 74,
     "metadata": {},
     "output_type": "execute_result"
    }
   ],
   "source": [
    "result"
   ]
  },
  {
   "cell_type": "code",
   "execution_count": null,
   "id": "2da9de96-de93-41d3-a6a8-2420a61b40f3",
   "metadata": {},
   "outputs": [],
   "source": []
  }
 ],
 "metadata": {
  "kernelspec": {
   "display_name": "Python (eval_env)",
   "language": "python",
   "name": "eval_env"
  },
  "language_info": {
   "codemirror_mode": {
    "name": "ipython",
    "version": 3
   },
   "file_extension": ".py",
   "mimetype": "text/x-python",
   "name": "python",
   "nbconvert_exporter": "python",
   "pygments_lexer": "ipython3",
   "version": "3.8.13"
  }
 },
 "nbformat": 4,
 "nbformat_minor": 5
}
