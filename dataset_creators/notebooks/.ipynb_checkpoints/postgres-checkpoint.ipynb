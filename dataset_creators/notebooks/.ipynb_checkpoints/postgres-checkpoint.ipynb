{
 "cells": [
  {
   "cell_type": "code",
   "execution_count": 2,
   "id": "1395667e-9b0f-4d4a-ad65-0a270079baf1",
   "metadata": {},
   "outputs": [
    {
     "data": {
      "text/plain": [
       "1550"
      ]
     },
     "execution_count": 2,
     "metadata": {},
     "output_type": "execute_result"
    }
   ],
   "source": [
    "import pandas as pd\n",
    "\n",
    "df_transformer = pd.read_csv('/home/sanjana/factual_evaluation_source_based/datasets/sota_annotations/dialogue_aggrefact.csv')\n",
    "\n",
    "len(df_transformer)"
   ]
  },
  {
   "cell_type": "code",
   "execution_count": 4,
   "id": "79113c16-38d9-45ac-aa17-ef18f2449537",
   "metadata": {},
   "outputs": [],
   "source": [
    "# df_ann_sample = pd.read_csv('"
   ]
  },
  {
   "cell_type": "code",
   "execution_count": 18,
   "id": "ef2e9fb5-db3c-4010-b3ba-865e38b0f972",
   "metadata": {},
   "outputs": [],
   "source": [
    "import psycopg2"
   ]
  },
  {
   "cell_type": "code",
   "execution_count": 19,
   "id": "ce57531c-976b-4545-862e-31718454f8bc",
   "metadata": {},
   "outputs": [],
   "source": [
    "conn = psycopg2.connect(\n",
    "   database=\"d3mhp3r7jhume9\", \n",
    "    user='sgqokpuggkrkve', \n",
    "    password='ff59f8ca03f950cef2e98fb4ae4ff44bdf7136ff37da62215672902c613297d6', \n",
    "    host='ec2-18-211-172-50.compute-1.amazonaws.com', \n",
    "    port = '5432'\n",
    "    \n",
    ")"
   ]
  },
  {
   "cell_type": "code",
   "execution_count": 20,
   "id": "b31197b4-ff69-4488-b63c-6c4d469d0c31",
   "metadata": {},
   "outputs": [],
   "source": [
    "conn.autocommit = True\n",
    "\n",
    "# #Creating a cursor object using the cursor() method\n",
    "# cursor = conn.cursor()\n",
    "\n",
    "# #Preparing query to create a database\n",
    "# sql = '''CREATE database gpt4_summaries_short_qualifying''';\n",
    "\n",
    "# #Creating a database\n",
    "# cursor.execute(sql)\n",
    "# print(\"Database created successfully........\")\n",
    "\n",
    "# #Closing the connection\n",
    "# conn.close()"
   ]
  },
  {
   "cell_type": "code",
   "execution_count": 21,
   "id": "399a4442-8158-46e8-9325-7dd9157d748f",
   "metadata": {},
   "outputs": [
    {
     "name": "stdout",
     "output_type": "stream",
     "text": [
      "Table created successfully........\n"
     ]
    }
   ],
   "source": [
    "cursor = conn.cursor()\n",
    "\n",
    "sql_drop = '''DROP TABLE IF EXISTS generated_summaries;'''\n",
    "#Preparing query to create a database\n",
    "sql = '''CREATE TABLE generated_summaries (\n",
    "    uuid uuid DEFAULT gen_random_uuid() PRIMARY KEY, \n",
    "    docid TEXT NOT NULL ,\n",
    "    model TEXT NOT NULL, \n",
    "    summary TEXT NOT NULL, \n",
    "    dialogue TEXT\n",
    ");'''\n",
    "\n",
    "#Creating a database\n",
    "cursor.execute(sql_drop)\n",
    "cursor.execute(sql)\n",
    "print(\"Table created successfully........\")\n",
    "conn.commit()"
   ]
  },
  {
   "cell_type": "code",
   "execution_count": 22,
   "id": "d58eb2c9-0cfa-4fc1-abc9-90eecf9d9879",
   "metadata": {},
   "outputs": [
    {
     "name": "stdout",
     "output_type": "stream",
     "text": [
      "Table created successfully........\n"
     ]
    }
   ],
   "source": [
    "sql_drop = '''DROP TABLE IF EXISTS label;'''\n",
    "\n",
    "create_table_label_str = '''CREATE TABLE label (\n",
    "    uuid uuid DEFAULT gen_random_uuid() PRIMARY KEY, \n",
    "    user_id TEXT NOT NULL,\n",
    "    docid TEXT NOT NULL,\n",
    "    model TEXT NOT NULL,\n",
    "    nonfactual_spans TEXT ,\n",
    "    evidence TEXT ,\n",
    "    error_type TEXT,\n",
    "    summary TEXT NOT NULL,\n",
    "    dialogue TEXT\n",
    ");'''\n",
    "\n",
    "cursor.execute(sql_drop)\n",
    "cursor.execute(create_table_label_str)\n",
    "print(\"Table created successfully........\")\n",
    "conn.commit()"
   ]
  },
  {
   "cell_type": "code",
   "execution_count": 5,
   "id": "5615d29b-7b71-42e2-b131-259eeb625bd8",
   "metadata": {},
   "outputs": [],
   "source": [
    "# df_path = '/home/sanjana/explainable_factual_evaluation/datasets/short_dialogue/model_generated/gpt4_generated_summaries/RefMatters_DialogSum_test.csv'\n",
    "# df_path = '/home/sanjana/factual_evaluation_source_based/annotations/round1_aggrefact/gpt4_summaries_short.csv'\n",
    "df_path = '/home/sanjana/factual_evaluation_source_based/annotations/sample/sample_annotations_sanjana.csv'\n",
    "\n"
   ]
  },
  {
   "cell_type": "code",
   "execution_count": 15,
   "id": "2395c64f-6798-4ad7-b3f3-f715d2beb5a2",
   "metadata": {},
   "outputs": [],
   "source": [
    "df = pd.read_csv(df_path)\n",
    "df_errors_intrinsic = df[df['error_type'] == 'Intrinsic_Error']\n",
    "df_errors_extrinsic = df[df['error_type'] == 'Extrinsic_Error']\n",
    "df_errors_noerrors = df[df['error_type'].isnull()]\n",
    "df_errors_intrinsic_sample = df_errors_intrinsic.sample(4)\n",
    "df_errors_extrinsic_sample = df_errors_extrinsic.sample(4)\n",
    "df_noerrors = df_errors_noerrors.sample(2)"
   ]
  },
  {
   "cell_type": "code",
   "execution_count": 16,
   "id": "00a2b281-df52-4cc9-8a98-5949d3ba3699",
   "metadata": {},
   "outputs": [
    {
     "data": {
      "text/html": [
       "<div>\n",
       "<style scoped>\n",
       "    .dataframe tbody tr th:only-of-type {\n",
       "        vertical-align: middle;\n",
       "    }\n",
       "\n",
       "    .dataframe tbody tr th {\n",
       "        vertical-align: top;\n",
       "    }\n",
       "\n",
       "    .dataframe thead th {\n",
       "        text-align: right;\n",
       "    }\n",
       "</style>\n",
       "<table border=\"1\" class=\"dataframe\">\n",
       "  <thead>\n",
       "    <tr style=\"text-align: right;\">\n",
       "      <th></th>\n",
       "      <th>Unnamed: 0</th>\n",
       "      <th>uuid</th>\n",
       "      <th>user_id</th>\n",
       "      <th>docid</th>\n",
       "      <th>model</th>\n",
       "      <th>nonfactual_spans</th>\n",
       "      <th>evidence</th>\n",
       "      <th>error_type</th>\n",
       "      <th>summary</th>\n",
       "      <th>dialogue</th>\n",
       "    </tr>\n",
       "  </thead>\n",
       "  <tbody>\n",
       "    <tr>\n",
       "      <th>167</th>\n",
       "      <td>204</td>\n",
       "      <td>4812007e-12f5-439d-b490-6dce79cec664</td>\n",
       "      <td>sanjana</td>\n",
       "      <td>13821297</td>\n",
       "      <td>gpt4-32k-0613</td>\n",
       "      <td>NaN</td>\n",
       "      <td>NaN</td>\n",
       "      <td>NaN</td>\n",
       "      <td>Ella asked her family to confirm their attenda...</td>\n",
       "      <td>Ella: Hey my dear family, could i ask you to c...</td>\n",
       "    </tr>\n",
       "    <tr>\n",
       "      <th>166</th>\n",
       "      <td>203</td>\n",
       "      <td>6d7363bb-1374-48da-9156-f06a609e8e58</td>\n",
       "      <td>sanjana</td>\n",
       "      <td>13821073</td>\n",
       "      <td>gpt4-32k-0613</td>\n",
       "      <td>a non-scary movie</td>\n",
       "      <td>Not found</td>\n",
       "      <td>Extrinsic_Error</td>\n",
       "      <td>After watching a Japanese horror movie late at...</td>\n",
       "      <td>Julie: hey guys... could you just talk to me f...</td>\n",
       "    </tr>\n",
       "    <tr>\n",
       "      <th>151</th>\n",
       "      <td>188</td>\n",
       "      <td>35ed364f-8b83-4ab3-8621-191c41707273</td>\n",
       "      <td>sanjana</td>\n",
       "      <td>13819314</td>\n",
       "      <td>gpt4-32k-0613</td>\n",
       "      <td>Marco invited Daniel to Bologna</td>\n",
       "      <td>Marco: : Are you coming to Bologna this fall?\\...</td>\n",
       "      <td>Intrinsic_Error</td>\n",
       "      <td>Marco invited Daniel to Bologna, but Daniel me...</td>\n",
       "      <td>Marco: Are you coming to Bologna this fall?\\r\\...</td>\n",
       "    </tr>\n",
       "    <tr>\n",
       "      <th>23</th>\n",
       "      <td>55</td>\n",
       "      <td>e56dfbf5-fbdc-432e-9e83-81c4f9ba81c4</td>\n",
       "      <td>sanjana</td>\n",
       "      <td>13716169</td>\n",
       "      <td>gpt4-32k-0613</td>\n",
       "      <td>NaN</td>\n",
       "      <td>NaN</td>\n",
       "      <td>NaN</td>\n",
       "      <td>Casey shared a photo of her nail art which she...</td>\n",
       "      <td>Casey: &lt;file_photo&gt;\\r\\nAmelia: these are so ni...</td>\n",
       "    </tr>\n",
       "    <tr>\n",
       "      <th>29</th>\n",
       "      <td>63</td>\n",
       "      <td>86b33373-2120-4cc8-80dc-66e3a247f481</td>\n",
       "      <td>sanjana</td>\n",
       "      <td>13716726</td>\n",
       "      <td>gpt4-32k-0613</td>\n",
       "      <td>Shanon, Victor, Oliver, and Sid, express their...</td>\n",
       "      <td>Shanon: : Yeah. So what bout him?\\nVictor: : H...</td>\n",
       "      <td>Intrinsic_Error</td>\n",
       "      <td>The group of students, Shanon, Victor, Oliver,...</td>\n",
       "      <td>Shanon: Yeah. So what bout him?\\r\\nVictor: He'...</td>\n",
       "    </tr>\n",
       "    <tr>\n",
       "      <th>127</th>\n",
       "      <td>164</td>\n",
       "      <td>20400429-e2fa-4299-8479-94fcc300bc71</td>\n",
       "      <td>sanjana</td>\n",
       "      <td>13813011</td>\n",
       "      <td>gpt4-32k-0613</td>\n",
       "      <td>actor Timothe Chalamet</td>\n",
       "      <td>Not found</td>\n",
       "      <td>Extrinsic_Error</td>\n",
       "      <td>Nova and Dominic are discussing an internet tr...</td>\n",
       "      <td>Nova: Do know that people are photoshoping Tim...</td>\n",
       "    </tr>\n",
       "    <tr>\n",
       "      <th>126</th>\n",
       "      <td>163</td>\n",
       "      <td>02d1ce3e-42c5-4cd9-8ab2-ce98fa376a23</td>\n",
       "      <td>sanjana</td>\n",
       "      <td>13810193</td>\n",
       "      <td>gpt4-32k-0613</td>\n",
       "      <td>Lindsay affirms that her child, Finlay</td>\n",
       "      <td>Not found</td>\n",
       "      <td>Extrinsic_Error</td>\n",
       "      <td>Amelia thanks Lindsay for attending her child ...</td>\n",
       "      <td>Amelia: Just wanted to say again, thank you so...</td>\n",
       "    </tr>\n",
       "    <tr>\n",
       "      <th>49</th>\n",
       "      <td>85</td>\n",
       "      <td>3fdfb2e5-cd52-4fbc-b022-e201cbf71edf</td>\n",
       "      <td>ann_epbi</td>\n",
       "      <td>13611734</td>\n",
       "      <td>gpt4-32k-0613</td>\n",
       "      <td>soccer player named Pogba</td>\n",
       "      <td>Not found</td>\n",
       "      <td>Extrinsic_Error</td>\n",
       "      <td>Richie and Clay are discussing the performance...</td>\n",
       "      <td>Richie: Pogba\\r\\nClay: Pogboom\\r\\nRichie: what...</td>\n",
       "    </tr>\n",
       "    <tr>\n",
       "      <th>35</th>\n",
       "      <td>70</td>\n",
       "      <td>8bcab26d-78e0-46ae-89dd-3c4a7ac52039</td>\n",
       "      <td>sanjana</td>\n",
       "      <td>13716905</td>\n",
       "      <td>gpt4-32k-0613</td>\n",
       "      <td>family photo taken during a cousin's wedding</td>\n",
       "      <td>Chiara: : It's us in Chicago 2 weeks ago.\\nLuc...</td>\n",
       "      <td>Intrinsic_Error</td>\n",
       "      <td>Yvonne and Chiara, two nieces, inquire about t...</td>\n",
       "      <td>Yvonne: How''s uncle Sam?\\r\\nLucy: He''s OK, j...</td>\n",
       "    </tr>\n",
       "    <tr>\n",
       "      <th>165</th>\n",
       "      <td>202</td>\n",
       "      <td>211dbc63-48ba-4bf3-9427-9b8bbb438466</td>\n",
       "      <td>sanjana</td>\n",
       "      <td>13821034</td>\n",
       "      <td>gpt4-32k-0613</td>\n",
       "      <td>Edward is anxious about the meetings with clients</td>\n",
       "      <td>Edward: : You think its gonna be just a few me...</td>\n",
       "      <td>Intrinsic_Error</td>\n",
       "      <td>Edward, Lauren, and Kate are expressing their ...</td>\n",
       "      <td>Edward: I dont wanna go on that business trip ...</td>\n",
       "    </tr>\n",
       "  </tbody>\n",
       "</table>\n",
       "</div>"
      ],
      "text/plain": [
       "     Unnamed: 0                                  uuid   user_id     docid  \\\n",
       "167         204  4812007e-12f5-439d-b490-6dce79cec664   sanjana  13821297   \n",
       "166         203  6d7363bb-1374-48da-9156-f06a609e8e58   sanjana  13821073   \n",
       "151         188  35ed364f-8b83-4ab3-8621-191c41707273   sanjana  13819314   \n",
       "23           55  e56dfbf5-fbdc-432e-9e83-81c4f9ba81c4   sanjana  13716169   \n",
       "29           63  86b33373-2120-4cc8-80dc-66e3a247f481   sanjana  13716726   \n",
       "127         164  20400429-e2fa-4299-8479-94fcc300bc71   sanjana  13813011   \n",
       "126         163  02d1ce3e-42c5-4cd9-8ab2-ce98fa376a23   sanjana  13810193   \n",
       "49           85  3fdfb2e5-cd52-4fbc-b022-e201cbf71edf  ann_epbi  13611734   \n",
       "35           70  8bcab26d-78e0-46ae-89dd-3c4a7ac52039   sanjana  13716905   \n",
       "165         202  211dbc63-48ba-4bf3-9427-9b8bbb438466   sanjana  13821034   \n",
       "\n",
       "             model                                   nonfactual_spans  \\\n",
       "167  gpt4-32k-0613                                                NaN   \n",
       "166  gpt4-32k-0613                                  a non-scary movie   \n",
       "151  gpt4-32k-0613                    Marco invited Daniel to Bologna   \n",
       "23   gpt4-32k-0613                                                NaN   \n",
       "29   gpt4-32k-0613  Shanon, Victor, Oliver, and Sid, express their...   \n",
       "127  gpt4-32k-0613                             actor Timothe Chalamet   \n",
       "126  gpt4-32k-0613             Lindsay affirms that her child, Finlay   \n",
       "49   gpt4-32k-0613                          soccer player named Pogba   \n",
       "35   gpt4-32k-0613       family photo taken during a cousin's wedding   \n",
       "165  gpt4-32k-0613  Edward is anxious about the meetings with clients   \n",
       "\n",
       "                                              evidence       error_type  \\\n",
       "167                                                NaN              NaN   \n",
       "166                                          Not found  Extrinsic_Error   \n",
       "151  Marco: : Are you coming to Bologna this fall?\\...  Intrinsic_Error   \n",
       "23                                                 NaN              NaN   \n",
       "29   Shanon: : Yeah. So what bout him?\\nVictor: : H...  Intrinsic_Error   \n",
       "127                                          Not found  Extrinsic_Error   \n",
       "126                                          Not found  Extrinsic_Error   \n",
       "49                                           Not found  Extrinsic_Error   \n",
       "35   Chiara: : It's us in Chicago 2 weeks ago.\\nLuc...  Intrinsic_Error   \n",
       "165  Edward: : You think its gonna be just a few me...  Intrinsic_Error   \n",
       "\n",
       "                                               summary  \\\n",
       "167  Ella asked her family to confirm their attenda...   \n",
       "166  After watching a Japanese horror movie late at...   \n",
       "151  Marco invited Daniel to Bologna, but Daniel me...   \n",
       "23   Casey shared a photo of her nail art which she...   \n",
       "29   The group of students, Shanon, Victor, Oliver,...   \n",
       "127  Nova and Dominic are discussing an internet tr...   \n",
       "126  Amelia thanks Lindsay for attending her child ...   \n",
       "49   Richie and Clay are discussing the performance...   \n",
       "35   Yvonne and Chiara, two nieces, inquire about t...   \n",
       "165  Edward, Lauren, and Kate are expressing their ...   \n",
       "\n",
       "                                              dialogue  \n",
       "167  Ella: Hey my dear family, could i ask you to c...  \n",
       "166  Julie: hey guys... could you just talk to me f...  \n",
       "151  Marco: Are you coming to Bologna this fall?\\r\\...  \n",
       "23   Casey: <file_photo>\\r\\nAmelia: these are so ni...  \n",
       "29   Shanon: Yeah. So what bout him?\\r\\nVictor: He'...  \n",
       "127  Nova: Do know that people are photoshoping Tim...  \n",
       "126  Amelia: Just wanted to say again, thank you so...  \n",
       "49   Richie: Pogba\\r\\nClay: Pogboom\\r\\nRichie: what...  \n",
       "35   Yvonne: How''s uncle Sam?\\r\\nLucy: He''s OK, j...  \n",
       "165  Edward: I dont wanna go on that business trip ...  "
      ]
     },
     "execution_count": 16,
     "metadata": {},
     "output_type": "execute_result"
    }
   ],
   "source": [
    "from random import shuffle\n",
    "df_sample = pd.concat([df_errors_intrinsic_sample, df_errors_extrinsic_sample, df_noerrors])\n",
    "# shuffle(df_sample)\n",
    "df_sample = df_sample.sample(frac = 1)\n",
    "df_sample"
   ]
  },
  {
   "cell_type": "code",
   "execution_count": 30,
   "id": "af093e9d-18fb-4cdb-9c2a-d7c957fa25ab",
   "metadata": {
    "scrolled": true
   },
   "outputs": [
    {
     "name": "stdout",
     "output_type": "stream",
     "text": [
      "172\n",
      "Size before adding 0\n"
     ]
    }
   ],
   "source": [
    "import pandas as pd \n",
    "import re\n",
    "# df = pd.read_csv(df_path)\n",
    "print(len(df))\n",
    "cursor.execute(\"\"\"SELECT * from generated_summaries\"\"\")\n",
    "print('Size before adding' , len(cursor.fetchall()))\n",
    "for idx, row in df_sample.iterrows():\n",
    "    # print(row)\n",
    "    docid = row['docid']\n",
    "    dialogue = row['dialogue']\n",
    "    model = row['model']\n",
    "    # origin = row['origin']\n",
    "    origin = 'sample'\n",
    "    summary = row['summary']\n",
    "    if 'summary' in df_sample.keys(): \n",
    "        # and row['DocID'] in filter_ids:\n",
    "        generic_summary = row['summary']\n",
    "        summary_uuid_generic = f'{docid}_{model}_gen'\n",
    "        # summary = re.sub( \"'\", r\"''\", summary)\n",
    "        # dialogue = re.sub( \"'\", r\"''\", dialogue)\n",
    "        value_str = f\"\"\"'{docid}', '{model}', '{summary}', '{dialogue}'\"\"\"\n",
    "        # print(re.findall(r\"\\'(\\w+)\\'\", dialogue))\n",
    "        cursor.execute(f\"\"\"INSERT INTO generated_summaries(docid, model, summary, dialogue) VALUES ({value_str})\"\"\",\n",
    "                                                        )\n",
    "        \n",
    "\n",
    "# conn.close()"
   ]
  },
  {
   "cell_type": "code",
   "execution_count": 31,
   "id": "1c2543e3-cb5b-401c-948b-ffa8b757f7f5",
   "metadata": {},
   "outputs": [],
   "source": [
    "cursor.execute('''SELECT * from generated_summaries''')\n",
    "result = cursor.fetchall();\n",
    "result\n",
    "conn.commit()"
   ]
  },
  {
   "cell_type": "code",
   "execution_count": 33,
   "id": "1fbfd32d-ce15-49e0-99b7-48d3512834da",
   "metadata": {},
   "outputs": [
    {
     "data": {
      "text/plain": [
       "10"
      ]
     },
     "execution_count": 33,
     "metadata": {},
     "output_type": "execute_result"
    }
   ],
   "source": [
    "len(result)"
   ]
  },
  {
   "cell_type": "code",
   "execution_count": null,
   "id": "2da9de96-de93-41d3-a6a8-2420a61b40f3",
   "metadata": {},
   "outputs": [],
   "source": []
  }
 ],
 "metadata": {
  "kernelspec": {
   "display_name": "Factual Eval(Abridge)",
   "language": "python",
   "name": "myenv"
  },
  "language_info": {
   "codemirror_mode": {
    "name": "ipython",
    "version": 3
   },
   "file_extension": ".py",
   "mimetype": "text/x-python",
   "name": "python",
   "nbconvert_exporter": "python",
   "pygments_lexer": "ipython3",
   "version": "3.11.5"
  }
 },
 "nbformat": 4,
 "nbformat_minor": 5
}
