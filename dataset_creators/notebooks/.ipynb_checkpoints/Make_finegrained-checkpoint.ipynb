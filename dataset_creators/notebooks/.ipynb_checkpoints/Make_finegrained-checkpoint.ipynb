{
 "cells": [
  {
   "cell_type": "code",
   "execution_count": 1,
   "id": "88898ec2-9d95-47fa-a754-1f81e6920514",
   "metadata": {},
   "outputs": [],
   "source": [
    "import json "
   ]
  },
  {
   "cell_type": "code",
   "execution_count": 3,
   "id": "0c0454d0-3a6c-45c0-92a6-f5e2ad948981",
   "metadata": {},
   "outputs": [],
   "source": [
    "finegrained_baseline_path = '/home/sanjana/factual_evaluation_source_based/datasets/sota_annotations/finegrained_annotations.json'"
   ]
  },
  {
   "cell_type": "code",
   "execution_count": 4,
   "id": "6ae26de6-df90-4cf0-9199-32c9d51dec37",
   "metadata": {},
   "outputs": [],
   "source": [
    "with open(finegrained_baseline_path, 'r') as fp:\n",
    "    data = json.load(fp)\n"
   ]
  },
  {
   "cell_type": "code",
   "execution_count": 14,
   "id": "38ddc55e-0070-42a9-8d6a-0effba26dc66",
   "metadata": {},
   "outputs": [
    {
     "data": {
      "text/plain": [
       "dict_keys(['1-5', '13-1', '13829296', '13821251', '14-10', '6-1', '24-8', '13828403', '13828739', '0-7', '13727920', '15-1', '10-2', '10-5', '13728157', '13716964', '13863152', '13820610-1', '13731446', '19-2', '13821554', '13681560', '16-4', '13681084', '30-1', '16-2', '3-4', '13814886', '13729445', '34-5', '27-4', '13682111', '13829728', '0-8', '13731495', '23-0', '15-3', '12-1', '13829183', '18-4', '3-5', '13829773', '10-4', '13829919', '14-0', '13731140-1', '0-1', '13680457', '13681924', '31-5', '0-2', '13728101', '13814235', '14-1', '13820513', '24-6', '13862773', '13828227', '20-2', '28-1', '13682100', '0-10', '13828297', '13680391', '29-1', '13682475', '13809941', '13680171', '29-4', '13829710', '13-11', '0-5', '13811786', '27-1', '9-2', '34-2', '13863098', '13731361', '32-5', '8-4', '13716087', '4-1', '13828334', '1-1', '13612149-1', '12-5', '13716405', '13829607', '20-7', '28-5', '13729106-1', '13-4', '13681755', '13680968', '13811007', '13821588', '33-2', '2-3', '11-5', '20-4', '13727624', '17-2', '33-1', '13818744', '25-5', '13715895', '13828432', '14-2', '13728051', '9-3', '14-5', '13821669', '13681482', '13729399', '13814606', '18-1', '13717052', '30-4', '20-1'])"
      ]
     },
     "execution_count": 14,
     "metadata": {},
     "output_type": "execute_result"
    }
   ],
   "source": [
    "data.keys()"
   ]
  },
  {
   "cell_type": "code",
   "execution_count": 17,
   "id": "bf042cfa-c1c7-4d17-b2a8-2ef0f31afc34",
   "metadata": {},
   "outputs": [
    {
     "data": {
      "text/plain": [
       "dict_keys(['utterances', 'query', 'target_summary', 'dataset_name', 'group_idx', 'annotations'])"
      ]
     },
     "execution_count": 17,
     "metadata": {},
     "output_type": "execute_result"
    }
   ],
   "source": [
    "data['13829296'].keys()"
   ]
  },
  {
   "cell_type": "code",
   "execution_count": 69,
   "id": "b5b00344-7ee3-47f6-a50e-9702c9c68153",
   "metadata": {},
   "outputs": [],
   "source": [
    "annotations = data['13829296']['annotations']\n",
    "df_dict = {, 'Dialogue': [], \n",
    "           'Model': [], \n",
    "           'Summary': [], \n",
    "           'Annotations':[],\n",
    "           'Reference_Summary': []\n",
    "          }\n",
    "for docid, doc_ann in data.items():\n",
    "    utterance = doc_ann['Dialogue']\n",
    "    reference_summary = doc_ann['Reference_Summary']\n",
    "    dataset_name = doc_ann['dataset_name']\n",
    "    \n",
    "    for model_name, model_annotations in annotations.items():\n",
    "        df_dict['Dialogue'].append(utterance)\n",
    "        df_dict['Model'].append(model_name)\n",
    "        df_dict['Summary'].append(model_annotations['model_prediction'])\n",
    "        df_dict['Reference_Summary'].append(reference_summary)\n",
    "        sentences_dict = {}\n",
    "        for sentence_annotations in model_annotations['sentence_annotations']:\n",
    "            for error_annotation in sentence_annotations['annotation']:\n",
    "                    err_span = error_annotation['error_span']\n",
    "                    err_type = error_annotation['intrinsic/extrinsic']\n",
    "                    err_class = error_annotation['error_class']\n",
    "                    if err_span.strip():\n",
    "                        if sentence_annotations['sentence'] not in sentences_dict:\n",
    "                            sentences_dict[sentence_annotations['sentence']] = []\n",
    "                            sentences_dict[sentence_annotations['sentence']] += [(err_span, err_type, err_class)]\n",
    "        df_dict['Annotations'].append(sentences_dict)\n",
    "                \n",
    "    \n"
   ]
  },
  {
   "cell_type": "code",
   "execution_count": 72,
   "id": "431e448e-91a9-424d-a788-e130bfa9bf5a",
   "metadata": {},
   "outputs": [
    {
     "data": {
      "text/html": [
       "<div>\n",
       "<style scoped>\n",
       "    .dataframe tbody tr th:only-of-type {\n",
       "        vertical-align: middle;\n",
       "    }\n",
       "\n",
       "    .dataframe tbody tr th {\n",
       "        vertical-align: top;\n",
       "    }\n",
       "\n",
       "    .dataframe thead th {\n",
       "        text-align: right;\n",
       "    }\n",
       "</style>\n",
       "<table border=\"1\" class=\"dataframe\">\n",
       "  <thead>\n",
       "    <tr style=\"text-align: right;\">\n",
       "      <th></th>\n",
       "      <th>Models</th>\n",
       "      <th>Annotations</th>\n",
       "      <th>Summary</th>\n",
       "    </tr>\n",
       "  </thead>\n",
       "  <tbody>\n",
       "    <tr>\n",
       "      <th>0</th>\n",
       "      <td>gpt3_finetune</td>\n",
       "      <td>{'Charles will probably arrive at the train st...</td>\n",
       "      <td>Charles will probably arrive at the train stat...</td>\n",
       "    </tr>\n",
       "    <tr>\n",
       "      <th>1</th>\n",
       "      <td>pegasus</td>\n",
       "      <td>{'Natacha will pick Charles up at the RER at 5...</td>\n",
       "      <td>Natacha will pick Charles up at the RER at 5:3...</td>\n",
       "    </tr>\n",
       "    <tr>\n",
       "      <th>2</th>\n",
       "      <td>structure_aware_bart</td>\n",
       "      <td>{'Natacha will pick Charles up at the RER at 5...</td>\n",
       "      <td>Natacha will pick Charles up at the RER at 5:3...</td>\n",
       "    </tr>\n",
       "    <tr>\n",
       "      <th>3</th>\n",
       "      <td>condigsum</td>\n",
       "      <td>{'Natacha will pick Charles up at the RER stat...</td>\n",
       "      <td>Natacha will pick Charles up at the RER statio...</td>\n",
       "    </tr>\n",
       "    <tr>\n",
       "      <th>4</th>\n",
       "      <td>bart</td>\n",
       "      <td>{'Natacha will pick Charles up at the station ...</td>\n",
       "      <td>Natacha will pick Charles up at the station Ve...</td>\n",
       "    </tr>\n",
       "  </tbody>\n",
       "</table>\n",
       "</div>"
      ],
      "text/plain": [
       "                 Models                                        Annotations  \\\n",
       "0         gpt3_finetune  {'Charles will probably arrive at the train st...   \n",
       "1               pegasus  {'Natacha will pick Charles up at the RER at 5...   \n",
       "2  structure_aware_bart  {'Natacha will pick Charles up at the RER at 5...   \n",
       "3             condigsum  {'Natacha will pick Charles up at the RER stat...   \n",
       "4                  bart  {'Natacha will pick Charles up at the station ...   \n",
       "\n",
       "                                             Summary  \n",
       "0  Charles will probably arrive at the train stat...  \n",
       "1  Natacha will pick Charles up at the RER at 5:3...  \n",
       "2  Natacha will pick Charles up at the RER at 5:3...  \n",
       "3  Natacha will pick Charles up at the RER statio...  \n",
       "4  Natacha will pick Charles up at the station Ve...  "
      ]
     },
     "execution_count": 72,
     "metadata": {},
     "output_type": "execute_result"
    }
   ],
   "source": [
    "import pandas as pd\n",
    "pd.DataFrame(df_dict)"
   ]
  },
  {
   "cell_type": "code",
   "execution_count": 58,
   "id": "d0963a23-5956-4a17-83b5-3022e9c21a40",
   "metadata": {},
   "outputs": [
    {
     "name": "stdout",
     "output_type": "stream",
     "text": [
      "Charles will probably arrive at the train station Vesinet at 5:30 pm. at 5:30 pm\n"
     ]
    }
   ],
   "source": [
    "model_name = 'gpt3_finetune'\n",
    "sentence_annotations = annotations[model_name]['sentence_annotations']\n",
    "sentences_dict = {}\n",
    "for sent_ann in sentence_annotations:\n",
    "    for error_annotation in sent_ann['annotation']:\n",
    "        err_span = error_annotation['error_span']\n",
    "        err_type = error_annotation['intrinsic/extrinsic']\n",
    "        err_class = error_annotation['error_class']\n",
    "        if err_span.strip():\n",
    "            print(sent_ann['sentence'], err_span)\n",
    "            if sent_ann['sentence'] not in sentences_dict:\n",
    "                sentences_dict[sent_ann['sentence']] = []\n",
    "                sentences_dict[sent_ann['sentence']] += [(err_span, err_type, err_class)]"
   ]
  },
  {
   "cell_type": "code",
   "execution_count": 59,
   "id": "847a5adc-1fd7-4246-975b-7a30c7cdfe0c",
   "metadata": {},
   "outputs": [
    {
     "data": {
      "text/plain": [
       "{'Charles will probably arrive at the train station Vesinet at 5:30 pm.': [('at 5:30 pm',\n",
       "   'intrinsic',\n",
       "   'CirE')]}"
      ]
     },
     "execution_count": 59,
     "metadata": {},
     "output_type": "execute_result"
    }
   ],
   "source": [
    "sentences_dict "
   ]
  },
  {
   "cell_type": "code",
   "execution_count": 43,
   "id": "9ab9a37e-7536-471c-a6dc-ebe855b8d77b",
   "metadata": {},
   "outputs": [
    {
     "data": {
      "text/plain": [
       "{'Charles will probably arrive at the train station Vesinet at 5:30 pm.': []}"
      ]
     },
     "execution_count": 43,
     "metadata": {},
     "output_type": "execute_result"
    }
   ],
   "source": [
    "sent_ann = sentence_annotations[0]\n",
    "sentence_dict[sent_ann['sentence']] = []\n",
    "sentence_dict"
   ]
  },
  {
   "cell_type": "code",
   "execution_count": 44,
   "id": "abf9a4a2-a79d-4fc7-b85b-31c80d6f464e",
   "metadata": {},
   "outputs": [],
   "source": [
    "for error_annotation in sent_ann['annotation']:\n",
    "    err_span = error_annotation['error_span']\n",
    "    err_type = error_annotation['intrinsic/extrinsic']\n",
    "    err_class = error_annotation['error_class']\n",
    "    sentence_dict[sent_ann['sentence']] += [(err_span, err_type, err_class)]\n",
    "    # print(err_span, err_type, err_class)"
   ]
  },
  {
   "cell_type": "code",
   "execution_count": 45,
   "id": "56e9b721-c386-4343-9b86-6a970ef95eb1",
   "metadata": {},
   "outputs": [
    {
     "data": {
      "text/plain": [
       "{'Charles will probably arrive at the train station Vesinet at 5:30 pm.': [('at 5:30 pm',\n",
       "   'intrinsic',\n",
       "   'CirE')]}"
      ]
     },
     "execution_count": 45,
     "metadata": {},
     "output_type": "execute_result"
    }
   ],
   "source": [
    "sentence_dict"
   ]
  },
  {
   "cell_type": "code",
   "execution_count": null,
   "id": "1c7fa7fe-6fab-4394-90ed-f4eae4c67a01",
   "metadata": {},
   "outputs": [],
   "source": []
  }
 ],
 "metadata": {
  "kernelspec": {
   "display_name": "Python (eval_env)",
   "language": "python",
   "name": "eval_env"
  },
  "language_info": {
   "codemirror_mode": {
    "name": "ipython",
    "version": 3
   },
   "file_extension": ".py",
   "mimetype": "text/x-python",
   "name": "python",
   "nbconvert_exporter": "python",
   "pygments_lexer": "ipython3",
   "version": "3.8.13"
  }
 },
 "nbformat": 4,
 "nbformat_minor": 5
}
