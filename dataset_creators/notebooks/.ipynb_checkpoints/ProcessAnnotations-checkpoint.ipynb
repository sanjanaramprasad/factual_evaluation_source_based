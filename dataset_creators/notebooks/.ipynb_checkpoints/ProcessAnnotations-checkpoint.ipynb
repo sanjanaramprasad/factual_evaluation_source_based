{
 "cells": [
  {
   "cell_type": "code",
   "execution_count": null,
   "id": "6ef0bccf-0cff-4949-bde2-a69fa7a9cc04",
   "metadata": {},
   "outputs": [],
   "source": []
  }
 ],
 "metadata": {
  "kernelspec": {
   "display_name": "Python (eval_env)",
   "language": "python",
   "name": "eval_env"
  },
  "language_info": {
   "codemirror_mode": {
    "name": "ipython",
    "version": 3
   },
   "file_extension": ".py",
   "mimetype": "text/x-python",
   "name": "python",
   "nbconvert_exporter": "python",
   "pygments_lexer": "ipython3",
   "version": "3.8.13"
  }
 },
 "nbformat": 4,
 "nbformat_minor": 5
}
