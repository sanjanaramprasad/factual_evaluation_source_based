{
 "cells": [
  {
   "cell_type": "code",
   "execution_count": 1,
   "id": "83ce8583-8b36-41a6-a980-18a18849828a",
   "metadata": {},
   "outputs": [],
   "source": [
    "import math \n",
    "import string \n",
    "import re\n",
    "\n",
    "import json \n",
    "\n",
    "import pandas as pd \n",
    "import sqlite3\n",
    "\n",
    "\n",
    "\n",
    "create_table_generated_summaries_str =  '''CREATE TABLE generated_summaries (\n",
    "    uuid INTEGER PRIMARY KEY AUTOINCREMENT, \n",
    "    docid TEXT NOT NULL ,\n",
    "    model TEXT NOT NULL, \n",
    "    summary TEXT NOT NULL, \n",
    "    dialogue TEXT\n",
    ");'''\n",
    "\n",
    "create_table_label_str = '''CREATE TABLE label (\n",
    "    uuid INTEGER PRIMARY KEY AUTOINCREMENT, \n",
    "    user_id TEXT NOT NULL,\n",
    "    docid TEXT NOT NULL,\n",
    "    model TEXT NOT NULL,\n",
    "    nonfactual_spans ENUM ,\n",
    "    evidence TEXT ,\n",
    "    error_type TEXT,\n",
    "    summary TEXT NOT NULL,\n",
    "    dialogue TEXT\n",
    ");'''\n",
    "\n",
    "\n",
    "\n",
    "\n",
    " \n",
    "# filter_ids = [\"'\" + each + \"'\" for each in filter_ids]\n",
    "# str_filter_ids = '(' + ', '.join(filter_ids) + ')'\n",
    "\n",
    "def connect_to_db(db_path):\n",
    "    conn = sqlite3.connect(db_path)\n",
    "    c = conn.cursor()\n",
    "    return conn, c \n",
    "\n",
    "\n",
    "def create_table(create_str, db_path):\n",
    "    conn, c = connect_to_db(db_path)\n",
    "    c.execute('''%s'''%(create_str))\n",
    "    conn.commit()\n",
    "    conn.close()\n",
    "\n",
    "def add_data(filename, db_path):\n",
    "    df = pd.read_csv(filename)\n",
    "    print(len(df))\n",
    "    conn, c = connect_to_db(db_path)\n",
    "#     print('Size before adding' , len(c.execute(\"\"\"SELECT * from generated_summaries\"\"\").fetchall()))\n",
    "    for idx, row in df.iterrows():\n",
    "        # print(row)\n",
    "        docid = row['DocID']\n",
    "        dialogue = row['Dialogue']\n",
    "        model = row['Model']\n",
    "        origin = row['origin']\n",
    "        summary = row['Summary']\n",
    "        \n",
    "        if 'Summary' in df.keys() and row['DocID'] in filter_ids:\n",
    "            generic_summary = row['Summary']\n",
    "            summary_uuid_generic = f'{docid}_{model}_gen'\n",
    "            c.execute(\"\"\"INSERT INTO generated_summaries (docid, model, summary, dialogue) VALUES (?, ?, ?, ?)\"\"\",\n",
    "                                                        (docid, \n",
    "                                                        model,\n",
    "                                                        summary,\n",
    "                                                        dialogue))\n",
    "            \n",
    "            \n",
    "    \n",
    "    print('Size after adding' , len(c.execute(\"\"\"SELECT * from generated_summaries\"\"\").fetchall()))\n",
    "    conn.commit()\n",
    "    conn.close()\n",
    "    \n",
    "def create_tables(db_path, force_new):\n",
    "    print(force_new)\n",
    "    conn, c = connect_to_db(db_path)\n",
    "    create_cmds = {\n",
    "        'generated_summaries': create_table_generated_summaries_str,\n",
    "        'label': create_table_label_str\n",
    "    }\n",
    "    \n",
    "    for table_name, create_str in create_cmds.items():\n",
    "        table_results = c.execute(f\"SELECT name FROM sqlite_master WHERE type='table' AND name='{table_name}';\").fetchall()\n",
    "        print(table_results)\n",
    "        if len(table_results) != 0:\n",
    "            print('Size before adding' , len(c.execute(\"\"\"SELECT * from generated_summaries\"\"\").fetchall()))\n",
    "            if (force_new == True):\n",
    "                print('here', force_new)\n",
    "                print(f'Dropping {table_name} ...')\n",
    "                c.execute(f'DROP table {table_name};')\n",
    "                create_table(create_str, db_path)\n",
    "        else:\n",
    "             create_table(create_str, db_path)"
   ]
  },
  {
   "cell_type": "code",
   "execution_count": 2,
   "id": "3c2b0a55-c02e-4e50-921b-cc13c29b4d67",
   "metadata": {},
   "outputs": [],
   "source": [
    "database_path = '/home/sanjana/explainable_factual_evaluation/datasets/short_dialogue/model_generated/annotations/gpt4_summaries_short.db'\n",
    "conn, c = connect_to_db(database_path)"
   ]
  },
  {
   "cell_type": "code",
   "execution_count": 6,
   "id": "83765974-8298-48e3-84f2-4813f04f0ce6",
   "metadata": {},
   "outputs": [],
   "source": [
    "\n",
    "\n",
    "results = c.execute(f\"\"\"SELECT * FROM label WHERE user_id == 'elisa'\"\"\").fetchall()\n",
    "\n"
   ]
  },
  {
   "cell_type": "code",
   "execution_count": 7,
   "id": "c719ddb8-c9b0-4340-a23e-ffb6ab754788",
   "metadata": {},
   "outputs": [
    {
     "data": {
      "text/plain": [
       "(6,\n",
       " 'elisa',\n",
       " 'test_12',\n",
       " 'GPT4',\n",
       " 'Person 1 (Steven) noticed that Pe',\n",
       " 'What happene',\n",
       " 'Intrinsic_Error',\n",
       " \"Person 1 (Steven) noticed that Person 2 (Tony) looked unhappy. Tony admitted making a big mistake, revealing he got caught cheating on a test which made him feel ashamed. He explains his fear of failing due to his father's expectations. However, Steven advises him to study hard and learn from his mistakes.\",\n",
       " \"#Person1#: Hi, Tony. You look unhappy. What's wrong?\\r\\n#Person2#: Oh, Steven, I made a big mistake.\\r\\n#Person1#: What happened?\\r\\n#Person2#: I really wish I hadn't done it.\\r\\n#Person1#: What on earth are you talking about?\\r\\n#Person2#: I got caught cheating. I feel so ashamed. The teacher saw me and told me I failed.\\r\\n#Person1#: What were you thinking?\\r\\n#Person2#: You know my father. If I fail, he'll kill me. I have to do well.\\r\\n#Person1#: But what you should do is study hard.\\r\\n#Person2#: I know. . . I know. . . it's all my fault. I feel awful that I didn't study, and I cheated, and I got caught.\\r\\n#Person1#: So long as you learn from your mistakes.\")"
      ]
     },
     "execution_count": 7,
     "metadata": {},
     "output_type": "execute_result"
    }
   ],
   "source": [
    "results[0]"
   ]
  },
  {
   "cell_type": "code",
   "execution_count": null,
   "id": "6e96fd66-2e88-4698-9543-dd146c07a2cb",
   "metadata": {},
   "outputs": [],
   "source": []
  }
 ],
 "metadata": {
  "kernelspec": {
   "display_name": "Python (eval_env)",
   "language": "python",
   "name": "eval_env"
  },
  "language_info": {
   "codemirror_mode": {
    "name": "ipython",
    "version": 3
   },
   "file_extension": ".py",
   "mimetype": "text/x-python",
   "name": "python",
   "nbconvert_exporter": "python",
   "pygments_lexer": "ipython3",
   "version": "3.8.13"
  }
 },
 "nbformat": 4,
 "nbformat_minor": 5
}
